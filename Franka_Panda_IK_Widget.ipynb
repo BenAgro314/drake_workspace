{
 "cells": [
  {
   "cell_type": "markdown",
   "metadata": {},
   "source": [
    "See the google collaboratory for more details:\n",
    "https://colab.research.google.com/drive/1mCbcWxvmARx1KTDbYHGVTNOa66Z4uCoJ?usp=sharing"
   ]
  },
  {
   "cell_type": "code",
   "execution_count": 1,
   "metadata": {},
   "outputs": [],
   "source": [
    "# start meshcat server\n",
    "server_args = []\n",
    "from meshcat.servers.zmqserver import start_zmq_server_as_subprocess\n",
    "proc, zmq_url, web_url = start_zmq_server_as_subprocess(server_args=server_args)"
   ]
  },
  {
   "cell_type": "code",
   "execution_count": 2,
   "metadata": {},
   "outputs": [],
   "source": [
    "import numpy as np\n",
    "from functools import partial\n",
    "\n",
    "from ipywidgets import FloatSlider, Layout, Dropdown, Textarea\n",
    "from IPython.display import display, HTML, SVG\n",
    "\n",
    "from pydrake.common.jupyter import process_ipywidget_events\n",
    "from pydrake.systems.framework import BasicVector, VectorSystem\n",
    "\n",
    "from pydrake.solvers.mathematicalprogram import MathematicalProgram, Solve\n",
    "\n",
    "from pydrake.all import (\n",
    "    AddMultibodyPlantSceneGraph, ConnectMeshcatVisualizer, DiagramBuilder, \n",
    "    FindResourceOrThrow, GenerateHtml, InverseDynamicsController, \n",
    "    MultibodyPlant, Parser, Simulator)\n",
    "\n",
    "from pydrake.math import RigidTransform, RotationMatrix, RollPitchYaw\n",
    "from pydrake.all import RigidTransform, RotationMatrix\n",
    "from pydrake.geometry import Cylinder\n",
    "from pydrake.multibody.tree import UnitInertia, SpatialInertia, JointIndex\n",
    "from pydrake.multibody.plant import CoulombFriction\n",
    "from pydrake.multibody.inverse_kinematics import InverseKinematics"
   ]
  },
  {
   "cell_type": "code",
   "execution_count": 3,
   "metadata": {},
   "outputs": [],
   "source": [
    "def AddCylinder(plant, name, radius, length):\n",
    "\n",
    "  mass = 1\n",
    "  mu = 1\n",
    "  color = [0.486, 0.305, 0.756,1]\n",
    "\n",
    "  shape = Cylinder(radius, length)\n",
    "  instance = plant.AddModelInstance(name)\n",
    "  inertia = UnitInertia.SolidCylinder(shape.radius(), shape.length())\n",
    "\n",
    "  body = plant.AddRigidBody(name, instance, SpatialInertia(mass=mass,p_PScm_E=np.array([0., 0., 0.]), G_SP_E=inertia))\n",
    "    \n",
    "  plant.RegisterCollisionGeometry(body, RigidTransform(), shape, name, CoulombFriction(mu, mu))\n",
    "\n",
    "  plant.RegisterVisualGeometry(body, RigidTransform(), shape, name, color)\n",
    "\n",
    "  return instance\n",
    "\n",
    "def PoseWidget(publishing_system, root_context, callback):\n",
    "  ''' create the slider widget that will callback with the desired position to the IK solver'''\n",
    "\n",
    "  vars = ['x (m)','y (m)','z (m)','roll (rad)','pitch (rad)','yaw (rad)']\n",
    "  desired_pose = np.array([0.3,0.5,0.3,0,np.pi/2,np.pi/2]) # initial slider (and hand) pose\n",
    "\n",
    "  publishing_context = publishing_system.GetMyContextFromRoot(root_context) # Returns the mutable subsystem context for this system, given a root context.\n",
    "  \n",
    "  callback(root_context, desired_pose)\n",
    "  publishing_system.Publish(publishing_context)\n",
    "\n",
    "  def slider_callback(change, index):\n",
    "    desired_pose[index] = change.new\n",
    "    callback(root_context, desired_pose)\n",
    "    publishing_system.Publish(publishing_context)\n",
    "\n",
    "  slider_widgets = []\n",
    "\n",
    "  \n",
    "  max_vals = [0.6, 0.6, 0.7, np.pi, np.pi, np.pi]\n",
    "  min_vals = [-0.6, -0.6, 0, -np.pi, -np.pi, -np.pi]\n",
    "\n",
    "  for i in range(len(vars)):\n",
    "    slider = FloatSlider(max=max_vals[i],\n",
    "                             min=min_vals[i],\n",
    "                             value=desired_pose[i],\n",
    "                             step=0.01,\n",
    "                             continuous_update=True,\n",
    "                             description=vars[i],\n",
    "                             layout=Layout(width='90%'))\n",
    "    slider.observe(partial(slider_callback, index = i), names='value')\n",
    "    display(slider)\n",
    "    slider_widgets.append(slider)\n",
    "\n",
    "  return slider_widgets\n",
    "\n",
    "q_previous = None"
   ]
  },
  {
   "cell_type": "code",
   "execution_count": 4,
   "metadata": {},
   "outputs": [],
   "source": [
    "def AddCollisionConstraints(ik, min_distance, arm_geometries, collidable_geometries):\n",
    "  for i in range(len(arm_geometries)):\n",
    "    for j in range(len(collidable_geometries)):\n",
    "      pair = (arm_geometries[i], collidable_geometries[j])\n",
    "      ik.AddDistanceConstraint(pair, min_distance, 1000) # we dont care about the upper bound so set it to a large number\n",
    "\n",
    "\n",
    "def main():\n",
    "    \n",
    "  position_tolerance = 0.01\n",
    "\n",
    "  panda_file = FindResourceOrThrow(\"drake/manipulation/models/franka_description/urdf/panda_arm_hand.urdf\")\n",
    "\n",
    "  builder = DiagramBuilder()\n",
    "  plant, scene_graph = AddMultibodyPlantSceneGraph(builder, time_step=1e-4)\n",
    "  panda_model = Parser(plant, scene_graph).AddModelFromFile(panda_file, 'panda')\n",
    "  plant.WeldFrames(plant.world_frame(),plant.GetFrameByName(\"panda_link0\"))\n",
    "\n",
    "  c1 = AddCylinder(plant, \"c1\", 0.05, 0.5)\n",
    "  plant.WeldFrames(plant.world_frame(), plant.GetFrameByName(\"c1\", c1), RigidTransform([0.15, 0.15, 0.25])) # add a model to test collisions\n",
    "\n",
    "  plant.Finalize()\n",
    "\n",
    "  meshcat = ConnectMeshcatVisualizer(builder, scene_graph, zmq_url=zmq_url)\n",
    "\n",
    "  diagram = builder.Build()\n",
    "  context = diagram.CreateDefaultContext()\n",
    "  plant_context = plant.GetMyContextFromRoot(context)\n",
    "  \n",
    "\n",
    "  q_nominal = plant.GetPositions(plant_context)\n",
    "  q_previous = None\n",
    "  end_effector_frame = plant.GetFrameByName('panda_hand', panda_model)\n",
    "  world_frame = plant.world_frame()\n",
    "  console = Textarea(value=\"\", description=\"\", layout={'width':'60%','height':'100px'}, style={'description_width':'initial'})\n",
    "\n",
    "  arm_geometries = []\n",
    "  bodies = plant.GetBodyIndices(plant.GetModelInstanceByName(\"panda\"))\n",
    "  for i in bodies:\n",
    "    b = plant.get_body(i)\n",
    "    if (b.name() == \"panda_link0\"): # this is because the distance constraint is not supported between two static objects in the scene\n",
    "        continue\n",
    "    arm_geometries+=plant.GetCollisionGeometriesForBody(b)\n",
    "        \n",
    "  collidable_names = [\"c1\"]\n",
    "  to_avoid_geometries = []\n",
    "  for name in collidable_names:\n",
    "    bodies = plant.GetBodyIndices(plant.GetModelInstanceByName(name))\n",
    "    for i in bodies:\n",
    "      to_avoid_geometries+=plant.GetCollisionGeometriesForBody(plant.get_body(i))\n",
    "\n",
    "  def IK_callback(context, desired_pose):\n",
    "    global q_previous\n",
    "    ik =InverseKinematics(plant, plant_context)\n",
    "\n",
    "    # position constraint\n",
    "    ik.AddPointToPointDistanceConstraint(end_effector_frame, np.array([0,0,0]), world_frame, desired_pose[0:3], 0, position_tolerance) # also can use AddPositionConstraint\n",
    "    \n",
    "    # add collision constraint\n",
    "    # ik.AddMinimumDistanceConstraint(0.01, 0.1) # this should work but doesn't for this franka-panda model (it works for the IIWA)\n",
    "    AddCollisionConstraints(ik, 0.01,arm_geometries, to_avoid_geometries)\n",
    "\n",
    "    # add orientation constraint\n",
    "    rot = RigidTransform(RollPitchYaw(desired_pose[3:]), desired_pose[0:3]).rotation()\n",
    "    ik.AddOrientationConstraint(end_effector_frame, RotationMatrix(), world_frame, rot, 0)\n",
    "\n",
    "    # set inital guess and solve\n",
    "    prog = ik.get_mutable_prog()\n",
    "    q = ik.q()\n",
    "    # prog.AddQuadraticErrorCost(np.identity(len(q)), q_nominal, q) # optional\n",
    "    if (q_previous is None):\n",
    "      prog.SetInitialGuess(q, q_nominal)\n",
    "    else:\n",
    "      prog.SetInitialGuess(q, q_previous)\n",
    "\n",
    "    result = Solve(prog)\n",
    "    q_previous = result.GetSolution()\n",
    "    console.value += str(result.is_success()) + \"\\n\"\n",
    "    \n",
    "  meshcat.load()\n",
    "  PoseWidget(meshcat, context, IK_callback)\n",
    "  display(console)"
   ]
  },
  {
   "cell_type": "code",
   "execution_count": 5,
   "metadata": {
    "scrolled": false
   },
   "outputs": [
    {
     "name": "stdout",
     "output_type": "stream",
     "text": [
      "Connecting to meshcat-server at zmq_url=tcp://127.0.0.1:6001...\n",
      "You can open the visualizer by visiting the following URL:\n",
      "http://127.0.0.1:7001/static/\n",
      "Connected to meshcat-server.\n"
     ]
    },
    {
     "data": {
      "application/vnd.jupyter.widget-view+json": {
       "model_id": "41fcda3ac12542548eff1310e9c14e92"
      }
     },
     "metadata": {},
     "output_type": "display_data"
    },
    {
     "data": {
      "application/vnd.jupyter.widget-view+json": {
       "model_id": "4a93cd6b15ff4904a90c397d5d0b3326"
      }
     },
     "metadata": {},
     "output_type": "display_data"
    },
    {
     "data": {
      "application/vnd.jupyter.widget-view+json": {
       "model_id": "30949cc44a164851b4435ceef34aaa8e"
      }
     },
     "metadata": {},
     "output_type": "display_data"
    },
    {
     "data": {
      "application/vnd.jupyter.widget-view+json": {
       "model_id": "292558419c4b45378118a8b04866b235"
      }
     },
     "metadata": {},
     "output_type": "display_data"
    },
    {
     "data": {
      "application/vnd.jupyter.widget-view+json": {
       "model_id": "aa9cc01edb034d4e85b249b39dd11711"
      }
     },
     "metadata": {},
     "output_type": "display_data"
    },
    {
     "data": {
      "application/vnd.jupyter.widget-view+json": {
       "model_id": "b4ce10f5344d4ec18f926193d25ed06b"
      }
     },
     "metadata": {},
     "output_type": "display_data"
    },
    {
     "data": {
      "application/vnd.jupyter.widget-view+json": {
       "model_id": "79514f917c154b449308d19312d35cf5"
      }
     },
     "metadata": {},
     "output_type": "display_data"
    }
   ],
   "source": [
    "main()"
   ]
  }
 ],
 "metadata": {
  "kernelspec": {
   "display_name": "drake_env",
   "language": "python",
   "name": "drake_env"
  },
  "language_info": {
   "codemirror_mode": {
    "name": "ipython",
    "version": 3
   },
   "file_extension": ".py",
   "mimetype": "text/x-python",
   "name": "python",
   "nbconvert_exporter": "python",
   "pygments_lexer": "ipython3",
   "version": "3.6.9"
  }
 },
 "nbformat": 4,
 "nbformat_minor": 2
}
