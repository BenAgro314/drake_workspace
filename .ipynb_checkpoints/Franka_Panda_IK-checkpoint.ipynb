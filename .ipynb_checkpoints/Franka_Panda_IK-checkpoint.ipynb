{
 "cells": [
  {
   "cell_type": "markdown",
   "metadata": {},
   "source": [
    "# Panda IK\n",
    "\n",
    "check out the collab version here if you don't have drake installed locally:\n",
    "https://colab.research.google.com/drive/1xnJ6RoyPa9yDQJucSRW0dbkDPdEpB1Qr?usp=sharing"
   ]
  },
  {
   "cell_type": "markdown",
   "metadata": {},
   "source": [
    "## Sliders"
   ]
  },
  {
   "cell_type": "code",
   "execution_count": 1,
   "metadata": {},
   "outputs": [],
   "source": [
    "import numpy as np\n",
    "from functools import partial\n",
    "\n",
    "from ipywidgets import FloatSlider, Layout, Dropdown, Textarea\n",
    "from IPython.display import display, HTML, SVG\n",
    "\n",
    "from pydrake.common.jupyter import process_ipywidget_events\n",
    "from pydrake.multibody.tree import JointIndex\n",
    "from pydrake.systems.framework import BasicVector, VectorSystem\n",
    "\n",
    "import pydrake.multibody as multibody\n",
    "from pydrake.solvers.mathematicalprogram import MathematicalProgram\n",
    "from pydrake.solvers.mathematicalprogram import Solve\n",
    "\n",
    "from pydrake.all import (\n",
    "    AddMultibodyPlantSceneGraph, ConnectMeshcatVisualizer, DiagramBuilder, \n",
    "    FindResourceOrThrow, GenerateHtml, InverseDynamicsController, \n",
    "    MultibodyPlant, Parser, Simulator)\n",
    "\n",
    "from pydrake.math import RotationMatrix\n",
    "from pydrake.math import RigidTransform, RollPitchYaw, RotationMatrix"
   ]
  },
  {
   "cell_type": "code",
   "execution_count": 2,
   "metadata": {},
   "outputs": [],
   "source": [
    "last_solution = None\n",
    "\n",
    "def MakeIKSlidersThatPublishOnCallback(\n",
    "    plant, publishing_system, root_context, arm_name, end_link_name, base_link_name, collidable_names = [], B = np.array([0,0,0]), col_tol = 0.01, pos_tol = 0.01, theta_tol = 0, my_callback = None, \n",
    "        lower_limit = [-0.5,-0.5,0,-np.pi,-np.pi,-np.pi], upper_limit = [0.5,0.5,0.7,np.pi,np.pi,np.pi], resolution = 0.001, length = 400, \n",
    "        continuous_update = True):\n",
    "    \"\"\"\n",
    "    Creates an ipywidget slider for the desired position (TODO: and orientation) of hand link of the plant.\n",
    "    It updates the context and calls Publish directly from slider callback. \n",
    "    This function is based on pydrake/multibody/jupyter_widgets.py\n",
    "    \n",
    "    Args:\n",
    "        plant: A MultibodyPlant\n",
    "        \n",
    "        publishing system: The System whos publish method will be called. Can be the entire Diagram, or just a subsystem\n",
    "        \n",
    "        root_context: A mutable root Context of the Diagram containing the ``plant`` and the ``publishing_system``; we will extract \n",
    "        the subcontext's using `GetMyContextFromRoot`. \n",
    "        \n",
    "        arm_name: the name of the arm ModelInstance\n",
    "        \n",
    "        end_link_name: the name of the end_effector link\n",
    "        \n",
    "        base_link_name: the name of the base link\n",
    "        \n",
    "        collidable_names: the names of the model instances that we want the arm to avoid collision with\n",
    "        \n",
    "        B: the position relative to the end effector link that we are trying to get within the bounding box.\n",
    "        \n",
    "        col_tol: the minimum allowable distance between objects \n",
    "        \n",
    "        pos_tol: the width of the bounding box tolerance around where the ik problem tries to find a solution\n",
    "        \n",
    "        theta_tol: the tolerance between the desired orientation and the achieved orientation\n",
    "        \n",
    "        my_callback: An optional additional callback function that will be called once immediately and again whenever \n",
    "        the sliders are moved. \n",
    "        \n",
    "        lower_limit: A numpy array of length 6 defining the lower limit of the (x,y,z, roll, pitch, yaw) sliders.\n",
    "        \n",
    "        upper_limit: A numpy array of length 6 defining the upper limit of the (x,y,z, roll, pitch, yaw) sliders.\n",
    "        \n",
    "        resolution: A scalar that specifies the step argument of the FloatSlider.\n",
    "        \n",
    "        length: The length of the sliders, which will be passed as a string to CSS width field and can be any valid CSS\n",
    "        entry (e.g. 100, 100 px).\n",
    "        \n",
    "        continuous_update: The continuous update field for the FloatSliders. The default ``True`` means that this method\n",
    "        will publish/callback as the sliders are dragged. ``False`` means that the publish/callback will only happen\n",
    "        once the user finishes dragging the slider.\n",
    "        \n",
    "    Returns:\n",
    "        A list of slider wiget objects that are created.\n",
    "        \n",
    "    Note that some publishers (like MeshcatVisualizer) use an initialization event to \"load\" the geometry. You should call\n",
    "    that before this method (e.g. with `meshcat.load()`).\n",
    "    \"\"\"\n",
    "    \n",
    "\n",
    "    \n",
    "    def _broadcast(x, num):\n",
    "        \"\"\"\n",
    "        Args: scalar ``x``, numpy array of length ``num``\n",
    "        Return: a numpy array of length ``num`` storing x\n",
    "        \"\"\"\n",
    "        x = np.array(x)\n",
    "        assert len(x.shape) <= 1\n",
    "        return np.array(x)*np.ones(num)\n",
    "    \n",
    "    num_sliders = 6\n",
    "    \n",
    "    # make arrays for the slider parameters\n",
    " \n",
    "    resolution = _broadcast(resolution, num_sliders)\n",
    "    desired_pose = np.array([0.3,0.3,0.3, 0,np.pi/2,np.pi/2])\n",
    "    \n",
    " \n",
    "    publishing_context = publishing_system.GetMyContextFromRoot(root_context) # Returns the mutable subsystem context for this system, given a root context.\n",
    "    plant_context = plant.GetMyContextFromRoot(root_context)\n",
    "    #plant_context = diagram.GetMutableSubsystemContext(plant, root_context)\n",
    "    positions = plant.GetPositions(plant_context)\n",
    "    print('starting joint angles:', positions)\n",
    "    \n",
    "    # publish once immediately\n",
    "    publishing_system.Publish(publishing_context)\n",
    "    \n",
    "    arm_geometries = []\n",
    "    bodies = plant.GetBodyIndices(plant.GetModelInstanceByName(arm_name))\n",
    "    for i in bodies:\n",
    "        b = plant.get_body(i)\n",
    "        if (b.name() == base_link_name): # this is because the distance constraint is not supported between two static objects in the scene\n",
    "            continue\n",
    "        arm_geometries+=plant.GetCollisionGeometriesForBody(b)\n",
    "        \n",
    "    to_avoid_geometries = []\n",
    "    \n",
    "    for name in collidable_names:\n",
    "        bodies = plant.GetBodyIndices(plant.GetModelInstanceByName(name))\n",
    "        for i in bodies:\n",
    "            to_avoid_geometries+=plant.GetCollisionGeometriesForBody(plant.get_body(i))\n",
    "\n",
    "    \n",
    "    \n",
    "    if my_callback:\n",
    "        my_callback(plant_context)\n",
    "    \n",
    "    # this cost is not currently included because using the last pose as the current initial solution is sufficient\n",
    "    def cost(problem):\n",
    "        global last_solution\n",
    "        mutable_prog = problem.get_mutable_prog()\n",
    "        qs = problem.q()\n",
    "        for i in range(len(qs)):\n",
    "            mutable_prog.AddCost((qs[i]-last_solution[i])**2)\n",
    "    \n",
    "    def ik_solver():\n",
    "        global last_solution\n",
    "        # instantiate an IK problem\n",
    "        ik_problem = multibody.inverse_kinematics.InverseKinematics(plant, plant_context)\n",
    "        \n",
    "        end_effector = plant.GetFrameByName(end_link_name)\n",
    "        world = plant.world_frame()\n",
    "\n",
    "        # add a distance constraint to the IK problem (where the hand needs to be)\n",
    "        ik_problem.AddPointToPointDistanceConstraint(end_effector, B, world, desired_pose[0:3], 0, pos_tol) \n",
    "        \n",
    "        \n",
    "        R_AbarA = RotationMatrix(RollPitchYaw(np.array([0,0,0])))\n",
    "        R_BbarB = RotationMatrix(RollPitchYaw(desired_pose[3:]))\n",
    "        \n",
    "        # add an orientatino constraint on the end-effector\n",
    "        ik_problem.AddOrientationConstraint(end_effector, RotationMatrix(), world_frame, \n",
    "        \n",
    "        #ik_problem.AddMinimumDistanceConstraint(0.01,0.1) (this doesnt work for some reason)\n",
    "       \n",
    "        for i in range(len(arm_geometries)):\n",
    "            for j in range(len(to_avoid_geometries)):\n",
    "                pair = (arm_geometries[i], to_avoid_geometries[j])\n",
    "                ik_problem.AddDistanceConstraint(pair, col_tol, 1000)\n",
    "\n",
    "\n",
    "        \n",
    "        # get and solve the problem\n",
    "        prog = ik_problem.get_mutable_prog()\n",
    "        #prog.AddQuadraticErrorErrorCost(np.identity(len(q)), )\n",
    "        #if (last_solution is not None):\n",
    "        #    cost(ik_problem)\n",
    "        result = Solve(prog, last_solution, None)\n",
    "        last_solution = result.GetSolution()\n",
    "        return result\n",
    "        \n",
    "\n",
    "        \n",
    "    def _slider_callback(change, index):\n",
    "        global last_solution \n",
    "        \n",
    "        desired_pose[index] = change.new\n",
    "        \n",
    "        result = ik_solver()\n",
    "        \n",
    "        print('Successfully found pose:', result.is_success())\n",
    "      \n",
    "        plant.SetPositions(plant_context, result.GetSolution())\n",
    "        publishing_system.Publish(publishing_context)\n",
    "        if my_callback:\n",
    "            my_callback(plant_context)\n",
    "            \n",
    "    result = ik_solver()\n",
    "        \n",
    "    print('Successfully found pose:', result.is_success())\n",
    "      \n",
    "    plant.SetPositions(plant_context, result.GetSolution())\n",
    "    publishing_system.Publish(publishing_context)\n",
    "    \n",
    "    slider_widgets = []\n",
    "    names = ['x (m)', 'y (m)', 'z (m)', 'roll (rad)', 'pitch (rad)', 'yaw (rad)']\n",
    "\n",
    "    print(desired_pose)\n",
    "    for i in range(num_sliders):\n",
    "        slider = FloatSlider(\n",
    "            value = desired_pose[i],\n",
    "            min = lower_limit[i],\n",
    "            max = upper_limit[i],\n",
    "            step = resolution[i],\n",
    "            continuous_update = continuous_update,\n",
    "            description = names[i],\n",
    "            style = {'description_width': 'initial'},\n",
    "            layour = Layout(width = f\"'{length}'\")\n",
    "        )\n",
    "        slider.observe(partial(_slider_callback, index = i), names = 'value')\n",
    "        display(slider)\n",
    "        slider_widgets.append(slider)\n",
    "        \n",
    "    return slider_widgets\n",
    "    \n",
    "    \n",
    "    \n",
    "    "
   ]
  },
  {
   "cell_type": "code",
   "execution_count": 3,
   "metadata": {},
   "outputs": [],
   "source": [
    "def xyz_rpy_deg(xyz, rpy_deg):\n",
    "    \"\"\"Shorthand for defining a pose.\"\"\"\n",
    "    rpy_deg = np.asarray(rpy_deg)\n",
    "    return RigidTransform(RollPitchYaw(rpy_deg * np.pi / 180), xyz)"
   ]
  },
  {
   "cell_type": "markdown",
   "metadata": {},
   "source": [
    "### Start Meshcat Server"
   ]
  },
  {
   "cell_type": "code",
   "execution_count": 4,
   "metadata": {},
   "outputs": [],
   "source": [
    "server_args = []\n",
    "from meshcat.servers.zmqserver import start_zmq_server_as_subprocess\n",
    "proc, zmq_url, web_url = start_zmq_server_as_subprocess(server_args=server_args)\n"
   ]
  },
  {
   "cell_type": "markdown",
   "metadata": {},
   "source": [
    "### Run the Widget"
   ]
  },
  {
   "cell_type": "code",
   "execution_count": 10,
   "metadata": {
    "scrolled": true
   },
   "outputs": [
    {
     "name": "stdout",
     "output_type": "stream",
     "text": [
      "Connecting to meshcat-server at zmq_url=tcp://127.0.0.1:6013...\n",
      "You can open the visualizer by visiting the following URL:\n",
      "http://127.0.0.1:7013/static/\n",
      "Connected to meshcat-server.\n",
      "starting joint angles: [ 0.  0.  0.  0.  0.  0.  0.  0.  0.]\n",
      "Successfully found pose: True\n",
      "[ 0.3         0.3         0.3         0.          1.57079633  1.57079633]\n"
     ]
    },
    {
     "data": {
      "application/vnd.jupyter.widget-view+json": {
       "model_id": "151dcb7f4e5349f882a5fd2cf3ebe0f5"
      }
     },
     "metadata": {},
     "output_type": "display_data"
    },
    {
     "data": {
      "application/vnd.jupyter.widget-view+json": {
       "model_id": "005dd4534f964188bee268f98921597d"
      }
     },
     "metadata": {},
     "output_type": "display_data"
    },
    {
     "data": {
      "application/vnd.jupyter.widget-view+json": {
       "model_id": "1c9d09219c354ca1879a6ca59b8ace10"
      }
     },
     "metadata": {},
     "output_type": "display_data"
    },
    {
     "data": {
      "application/vnd.jupyter.widget-view+json": {
       "model_id": "2a3854d85ec1473eb91c7344831ee279"
      }
     },
     "metadata": {},
     "output_type": "display_data"
    },
    {
     "data": {
      "application/vnd.jupyter.widget-view+json": {
       "model_id": "e0949bb0a3ed4c8d9e5ba461b3a2ed71"
      }
     },
     "metadata": {},
     "output_type": "display_data"
    },
    {
     "data": {
      "application/vnd.jupyter.widget-view+json": {
       "model_id": "6ff18e2a06ee46f7b7eec73915230198"
      }
     },
     "metadata": {},
     "output_type": "display_data"
    },
    {
     "name": "stdout",
     "output_type": "stream",
     "text": [
      "Successfully found pose: True\n",
      "Successfully found pose: True\n",
      "Successfully found pose: True\n",
      "Successfully found pose: True\n",
      "Successfully found pose: True\n",
      "Successfully found pose: True\n",
      "Successfully found pose: True\n",
      "Successfully found pose: True\n",
      "Successfully found pose: False\n",
      "Successfully found pose: False\n",
      "Successfully found pose: False\n",
      "Successfully found pose: False\n",
      "Successfully found pose: False\n",
      "Successfully found pose: False\n",
      "Successfully found pose: False\n",
      "Successfully found pose: False\n",
      "Successfully found pose: False\n",
      "Successfully found pose: False\n",
      "Successfully found pose: False\n",
      "Successfully found pose: False\n",
      "Successfully found pose: False\n",
      "Successfully found pose: False\n",
      "Successfully found pose: False\n",
      "Successfully found pose: False\n",
      "Successfully found pose: False\n",
      "Successfully found pose: True\n",
      "Successfully found pose: True\n",
      "Successfully found pose: True\n",
      "Successfully found pose: False\n",
      "Successfully found pose: False\n",
      "Successfully found pose: True\n",
      "Successfully found pose: True\n",
      "Successfully found pose: True\n",
      "Successfully found pose: True\n",
      "Successfully found pose: True\n",
      "Successfully found pose: True\n",
      "Successfully found pose: True\n",
      "Successfully found pose: True\n",
      "Successfully found pose: True\n",
      "Successfully found pose: True\n",
      "Successfully found pose: True\n",
      "Successfully found pose: True\n",
      "Successfully found pose: True\n",
      "Successfully found pose: True\n",
      "Successfully found pose: True\n",
      "Successfully found pose: True\n",
      "Successfully found pose: True\n",
      "Successfully found pose: True\n",
      "Successfully found pose: True\n",
      "Successfully found pose: True\n",
      "Successfully found pose: True\n",
      "Successfully found pose: True\n",
      "Successfully found pose: True\n",
      "Successfully found pose: True\n",
      "Successfully found pose: False\n",
      "Successfully found pose: False\n",
      "Successfully found pose: True\n",
      "Successfully found pose: True\n",
      "Successfully found pose: True\n",
      "Successfully found pose: True\n",
      "Successfully found pose: True\n",
      "Successfully found pose: False\n",
      "Successfully found pose: False\n",
      "Successfully found pose: True\n",
      "Successfully found pose: True\n",
      "Successfully found pose: True\n",
      "Successfully found pose: True\n",
      "Successfully found pose: True\n",
      "Successfully found pose: True\n",
      "Successfully found pose: True\n",
      "Successfully found pose: True\n",
      "Successfully found pose: True\n",
      "Successfully found pose: True\n",
      "Successfully found pose: True\n",
      "Successfully found pose: True\n",
      "Successfully found pose: True\n",
      "Successfully found pose: True\n",
      "Successfully found pose: True\n",
      "Successfully found pose: True\n",
      "Successfully found pose: True\n",
      "Successfully found pose: True\n",
      "Successfully found pose: True\n",
      "Successfully found pose: True\n",
      "Successfully found pose: True\n",
      "Successfully found pose: True\n",
      "Successfully found pose: True\n",
      "Successfully found pose: True\n",
      "Successfully found pose: True\n",
      "Successfully found pose: True\n",
      "Successfully found pose: True\n",
      "Successfully found pose: True\n",
      "Successfully found pose: True\n",
      "Successfully found pose: True\n",
      "Successfully found pose: True\n",
      "Successfully found pose: True\n",
      "Successfully found pose: True\n",
      "Successfully found pose: True\n",
      "Successfully found pose: True\n",
      "Successfully found pose: True\n",
      "Successfully found pose: True\n",
      "Successfully found pose: True\n",
      "Successfully found pose: True\n",
      "Successfully found pose: True\n",
      "Successfully found pose: True\n",
      "Successfully found pose: True\n",
      "Successfully found pose: True\n",
      "Successfully found pose: True\n",
      "Successfully found pose: True\n",
      "Successfully found pose: True\n",
      "Successfully found pose: True\n",
      "Successfully found pose: True\n",
      "Successfully found pose: True\n",
      "Successfully found pose: True\n",
      "Successfully found pose: True\n",
      "Successfully found pose: True\n",
      "Successfully found pose: True\n",
      "Successfully found pose: True\n",
      "Successfully found pose: True\n",
      "Successfully found pose: True\n",
      "Successfully found pose: True\n",
      "Successfully found pose: True\n",
      "Successfully found pose: False\n",
      "Successfully found pose: False\n",
      "Successfully found pose: False\n",
      "Successfully found pose: False\n",
      "Successfully found pose: False\n",
      "Successfully found pose: False\n",
      "Successfully found pose: False\n",
      "Successfully found pose: False\n",
      "Successfully found pose: False\n",
      "Successfully found pose: False\n",
      "Successfully found pose: False\n"
     ]
    }
   ],
   "source": [
    "panda_file = FindResourceOrThrow(\"drake/manipulation/models/franka_description/urdf/panda_arm_hand.urdf\")\n",
    "tower_file = \"/home/agrobenj/workspace/models/foam_tower.sdf\"\n",
    "\n",
    "builder = DiagramBuilder()\n",
    "plant, scene_graph = AddMultibodyPlantSceneGraph(builder, time_step=1e-4)\n",
    "panda_model = Parser(plant, scene_graph).AddModelFromFile(panda_file, 'panda')\n",
    "tower1 = Parser(plant, scene_graph).AddModelFromFile(tower_file, 'tower1')\n",
    "tower2 = Parser(plant, scene_graph).AddModelFromFile(tower_file, 'tower2')\n",
    "plant.WeldFrames(plant.world_frame(),plant.GetFrameByName(\"panda_link0\"))\n",
    "plant.WeldFrames(plant.world_frame(),plant.GetFrameByName(\"base_link\", tower1), xyz_rpy_deg([0,0.25,0.5], [0,0,0]))\n",
    "plant.WeldFrames(plant.world_frame(),plant.GetFrameByName(\"base_link\", tower2), xyz_rpy_deg([0.5,0,0.5], [0,0,0]))\n",
    "plant.Finalize()\n",
    "\n",
    "meshcat = ConnectMeshcatVisualizer(builder, scene_graph, zmq_url=zmq_url)\n",
    "diagram = builder.Build()\n",
    "context = diagram.CreateDefaultContext()\n",
    "\n",
    "meshcat.load()\n",
    "MakeIKSlidersThatPublishOnCallback(plant, meshcat, context, \"panda\", \"panda_hand\", \"panda_link0\", collidable_names = [],continuous_update = True);"
   ]
  },
  {
   "cell_type": "code",
   "execution_count": 227,
   "metadata": {},
   "outputs": [],
   "source": [
    "def PoseWidget(publishing_system, root_context, callback):\n",
    "  ''' create the slider widget that will callback with the desired position to the IK solver'''\n",
    "\n",
    "  vars = ['x (m)','y (m)','z (m)','roll (rad)','pitch (rad)','yaw (rad)']\n",
    "  desired_pose = np.array([0.3,0.3,0.3,0,np.pi/2,np.pi/2])\n",
    "\n",
    "  publishing_context = publishing_system.GetMyContextFromRoot(root_context) # Returns the mutable subsystem context for this system, given a root context.\n",
    "  \n",
    "  callback(root_context, desired_pose)\n",
    "  publishing_system.Publish(publishing_context)\n",
    "\n",
    "  def slider_callback(change, index):\n",
    "    desired_pose[index] = change.new\n",
    "    callback(root_context, desired_pose)\n",
    "    publishing_system.Publish(publishing_context)\n",
    "\n",
    "  slider_widgets = []\n",
    "\n",
    "  \n",
    "  max_vals = [0.6, 0.6, 0.7, np.pi, np.pi, np.pi]\n",
    "  min_vals = [-0.6, -0.6, 0, -np.pi, -np.pi, -np.pi]\n",
    "\n",
    "  for i in range(len(vars)):\n",
    "    slider = FloatSlider(max=max_vals[i],\n",
    "                             min=min_vals[i],\n",
    "                             value=desired_pose[i],\n",
    "                             step=0.01,\n",
    "                             continuous_update=True,\n",
    "                             description=vars[i],\n",
    "                             layout=Layout(width='90%'))\n",
    "    slider.observe(partial(slider_callback, index = i), names='value')\n",
    "    display(slider)\n",
    "    slider_widgets.append(slider)\n",
    "\n",
    "  return slider_widgets\n",
    "\n",
    "\n",
    "def xyz_rpy_deg(xyz, rpy_deg):\n",
    "    rpy_deg = np.asarray(rpy_deg)\n",
    "    return RigidTransform(RollPitchYaw(rpy_deg * np.pi / 180), xyz)\n",
    "\n",
    "q_previous = None\n",
    "\n",
    "def IK_teleop(position_tolerance = 0.01):\n",
    "  panda_file = FindResourceOrThrow(\"drake/manipulation/models/franka_description/urdf/panda_arm_hand.urdf\")\n",
    "\n",
    "  builder = DiagramBuilder()\n",
    "  plant, scene_graph = AddMultibodyPlantSceneGraph(builder, time_step=1e-4)\n",
    "  panda_model = Parser(plant, scene_graph).AddModelFromFile(panda_file, 'panda')\n",
    "  plant.WeldFrames(plant.world_frame(),plant.GetFrameByName(\"panda_link0\"))\n",
    "  plant.Finalize()\n",
    "\n",
    "  meshcat = ConnectMeshcatVisualizer(builder, scene_graph, zmq_url=zmq_url)\n",
    "\n",
    "  diagram = builder.Build()\n",
    "  context = diagram.CreateDefaultContext()\n",
    "  plant_context = plant.GetMyContextFromRoot(context)\n",
    "  \n",
    "\n",
    "  q_nominal = plant.GetPositions(plant_context)\n",
    "  q_previous = None\n",
    "  end_effector_frame = plant.GetFrameByName('panda_hand', panda_model)\n",
    "  world_frame = plant.world_frame()\n",
    "  console = Textarea(value=\"\", description=\"\", layout={'width':'60%','height':'100px'}, style={'description_width':'initial'})\n",
    "\n",
    "  def IK_callback(context, desired_pose):\n",
    "    global q_previous\n",
    "    ik = multibody.inverse_kinematics.InverseKinematics(plant, plant_context)\n",
    "\n",
    "    # position constraint\n",
    "    ik.AddPointToPointDistanceConstraint(end_effector_frame, np.array([0,0,0]), world_frame, desired_pose[0:3], 0, position_tolerance) # also can use AddPositionConstraint\n",
    "\n",
    "    rot = RigidTransform(RollPitchYaw(desired_pose[3:], desired_pose[0:3])\n",
    "    \n",
    "    ik.AddOrientationConstraint(end_effector_frame, RotationMatrix(), world_frame, rot)\n",
    "\n",
    "    # set inital guess and solve\n",
    "    prog = ik.get_mutable_prog()\n",
    "    q = ik.q()\n",
    "    # prog.AddQuadraticErrorCost(np.identity(len(q)), q0, q) # optionally, we can add a quadratic error cost between the current solution and previous solution\n",
    "    if (q_previous is None):\n",
    "      prog.SetInitialGuess(q, q_nominal)\n",
    "    else:\n",
    "      prog.SetInitialGuess(q, q_previous)\n",
    "\n",
    "    result = Solve(prog)\n",
    "    q_previous = result.GetSolution()\n",
    "    console.value += str(result.is_success()) + \"\\n\"\n",
    "    \n",
    "  meshcat.load()\n",
    "  PoseWidget(meshcat, context, IK_callback)\n",
    "  display(console)"
   ]
  },
  {
   "cell_type": "code",
   "execution_count": 229,
   "metadata": {
    "scrolled": true
   },
   "outputs": [
    {
     "name": "stdout",
     "output_type": "stream",
     "text": [
      "Connecting to meshcat-server at zmq_url=tcp://127.0.0.1:6012...\n",
      "You can open the visualizer by visiting the following URL:\n",
      "http://127.0.0.1:7012/static/\n",
      "Connected to meshcat-server.\n"
     ]
    },
    {
     "data": {
      "application/vnd.jupyter.widget-view+json": {
       "model_id": "b399e01d3aef4400b23b4bbd1b91bb6e"
      }
     },
     "metadata": {},
     "output_type": "display_data"
    },
    {
     "data": {
      "application/vnd.jupyter.widget-view+json": {
       "model_id": "8d8238bc656e40d0aa19d67e9e0a2842"
      }
     },
     "metadata": {},
     "output_type": "display_data"
    },
    {
     "data": {
      "application/vnd.jupyter.widget-view+json": {
       "model_id": "bb6bdc0472124d28a56409231e3f1677"
      }
     },
     "metadata": {},
     "output_type": "display_data"
    },
    {
     "data": {
      "application/vnd.jupyter.widget-view+json": {
       "model_id": "22ee6c4c24814b789ca62ddf89105adf"
      }
     },
     "metadata": {},
     "output_type": "display_data"
    },
    {
     "data": {
      "application/vnd.jupyter.widget-view+json": {
       "model_id": "8846b4d6242c4f34a94b38be7343a7a6"
      }
     },
     "metadata": {},
     "output_type": "display_data"
    },
    {
     "data": {
      "application/vnd.jupyter.widget-view+json": {
       "model_id": "2cbf88f171944d79a018985ba9d09680"
      }
     },
     "metadata": {},
     "output_type": "display_data"
    },
    {
     "data": {
      "application/vnd.jupyter.widget-view+json": {
       "model_id": "1ed02b3274cc407e82227ef297165fd1"
      }
     },
     "metadata": {},
     "output_type": "display_data"
    }
   ],
   "source": [
    "IK_teleop()"
   ]
  }
 ],
 "metadata": {
  "kernelspec": {
   "display_name": "drake_kernel",
   "language": "python",
   "name": "drake_kernel"
  },
  "language_info": {
   "codemirror_mode": {
    "name": "ipython",
    "version": 3
   },
   "file_extension": ".py",
   "mimetype": "text/x-python",
   "name": "python",
   "nbconvert_exporter": "python",
   "pygments_lexer": "ipython3",
   "version": "3.6.9"
  }
 },
 "nbformat": 4,
 "nbformat_minor": 2
}
