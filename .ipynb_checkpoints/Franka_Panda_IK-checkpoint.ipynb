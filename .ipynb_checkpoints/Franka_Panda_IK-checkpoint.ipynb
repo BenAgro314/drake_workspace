{
 "cells": [
  {
   "cell_type": "markdown",
   "metadata": {},
   "source": [
    "# Panda IK\n",
    "\n",
    "check out the collab version here if you don't have drake installed locally:\n",
    "https://colab.research.google.com/drive/1xnJ6RoyPa9yDQJucSRW0dbkDPdEpB1Qr?usp=sharing"
   ]
  },
  {
   "cell_type": "markdown",
   "metadata": {},
   "source": [
    "## Sliders"
   ]
  },
  {
   "cell_type": "code",
   "execution_count": 9,
   "metadata": {},
   "outputs": [],
   "source": [
    "import numpy as np\n",
    "from functools import partial\n",
    "\n",
    "from ipywidgets import FloatSlider, Layout, Dropdown\n",
    "from IPython.display import display, HTML, SVG\n",
    "\n",
    "from pydrake.common.jupyter import process_ipywidget_events\n",
    "from pydrake.multibody.tree import JointIndex\n",
    "from pydrake.systems.framework import BasicVector, VectorSystem\n",
    "\n",
    "import pydrake.multibody as multibody\n",
    "from pydrake.solvers.mathematicalprogram import MathematicalProgram\n",
    "from pydrake.solvers.mathematicalprogram import Solve\n",
    "\n",
    "from pydrake.all import (\n",
    "    AddMultibodyPlantSceneGraph, ConnectMeshcatVisualizer, DiagramBuilder, \n",
    "    FindResourceOrThrow, GenerateHtml, InverseDynamicsController, \n",
    "    MultibodyPlant, Parser, Simulator)\n",
    "\n",
    "from pydrake.math import RotationMatrix\n",
    "from pydrake.math import RigidTransform, RollPitchYaw, RotationMatrix"
   ]
  },
  {
   "cell_type": "code",
   "execution_count": 86,
   "metadata": {},
   "outputs": [],
   "source": [
    "def MakeIKSlidersThatPublishOnCallback(\n",
    "    plant, publishing_system, root_context, arm_name, end_link_name, base_link_name, collidable_names = [], B = np.array([0,0,0]), col_tol = 0.01, pos_tol = 0.01, theta_tol = 0, my_callback = None, \n",
    "        lower_limit = [-0.5,-0.5,0,-np.pi,-np.pi,-np.pi], upper_limit = [0.5,0.5,0.7,np.pi,np.pi,np.pi], resolution = 0.001, length = 400, \n",
    "        continuous_update = True):\n",
    "    \"\"\"\n",
    "    Creates an ipywidget slider for the desired position (TODO: and orientation) of hand link of the plant.\n",
    "    It updates the context and calls Publish directly from slider callback. \n",
    "    This function is based on pydrake/multibody/jupyter_widgets.py\n",
    "    \n",
    "    Args:\n",
    "        plant: A MultibodyPlant\n",
    "        \n",
    "        publishing system: The System whos publish method will be called. Can be the entire Diagram, or just a subsystem\n",
    "        \n",
    "        root_context: A mutable root Context of the Diagram containing the ``plant`` and the ``publishing_system``; we will extract \n",
    "        the subcontext's using `GetMyContextFromRoot`. \n",
    "        \n",
    "        arm_name: the name of the arm ModelInstance\n",
    "        \n",
    "        end_link_name: the name of the end_effector link\n",
    "        \n",
    "        base_link_name: the name of the base link\n",
    "        \n",
    "        collidable_names: the names of the model instances that we want the arm to avoid collision with\n",
    "        \n",
    "        B: the position relative to the end effector link that we are trying to get within the bounding box.\n",
    "        \n",
    "        col_tol: the minimum allowable distance between objects \n",
    "        \n",
    "        pos_tol: the width of the bounding box tolerance around where the ik problem tries to find a solution\n",
    "        \n",
    "        theta_tol: the tolerance between the desired orientation and the achieved orientation\n",
    "        \n",
    "        my_callback: An optional additional callback function that will be called once immediately and again whenever \n",
    "        the sliders are moved. \n",
    "        \n",
    "        lower_limit: A numpy array of length 6 defining the lower limit of the (x,y,z, roll, pitch, yaw) sliders.\n",
    "        \n",
    "        upper_limit: A numpy array of length 6 defining the upper limit of the (x,y,z, roll, pitch, yaw) sliders.\n",
    "        \n",
    "        resolution: A scalar that specifies the step argument of the FloatSlider.\n",
    "        \n",
    "        length: The length of the sliders, which will be passed as a string to CSS width field and can be any valid CSS\n",
    "        entry (e.g. 100, 100 px).\n",
    "        \n",
    "        continuous_update: The continuous update field for the FloatSliders. The default ``True`` means that this method\n",
    "        will publish/callback as the sliders are dragged. ``False`` means that the publish/callback will only happen\n",
    "        once the user finishes dragging the slider.\n",
    "        \n",
    "    Returns:\n",
    "        A list of slider wiget objects that are created.\n",
    "        \n",
    "    Note that some publishers (like MeshcatVisualizer) use an initialization event to \"load\" the geometry. You should call\n",
    "    that before this method (e.g. with `meshcat.load()`).\n",
    "    \"\"\"\n",
    "    \n",
    "    def _broadcast(x, num):\n",
    "        \"\"\"\n",
    "        Args: scalar ``x``, numpy array of length ``num``\n",
    "        Return: a numpy array of length ``num`` storing x\n",
    "        \"\"\"\n",
    "        x = np.array(x)\n",
    "        assert len(x.shape) <= 1\n",
    "        return np.array(x)*np.ones(num)\n",
    "    \n",
    "    num_sliders = 6\n",
    "    \n",
    "    # make arrays for the slider parameters\n",
    " \n",
    "    resolution = _broadcast(resolution, num_sliders)\n",
    "    desired_pose = np.array([0.3,0.3,0.3, 0,np.pi/2,np.pi/2])\n",
    "    \n",
    "\n",
    "    \n",
    "    publishing_context = publishing_system.GetMyContextFromRoot(root_context) # Returns the mutable subsystem context for this system, given a root context.\n",
    "    plant_context = plant.GetMyContextFromRoot(root_context)\n",
    "    #plant_context = diagram.GetMutableSubsystemContext(plant, root_context)\n",
    "    positions = plant.GetPositions(plant_context)\n",
    "    print('starting joint angles:', positions)\n",
    "    \n",
    "    # publish once immediately\n",
    "    publishing_system.Publish(publishing_context)\n",
    "    \n",
    "    arm_geometries = []\n",
    "    bodies = plant.GetBodyIndices(plant.GetModelInstanceByName(arm_name))\n",
    "    for i in bodies:\n",
    "        b = plant.get_body(i)\n",
    "        if (b.name() == base_link_name): # this is because the distance constraint is not supported between two static objects in the scene\n",
    "            continue\n",
    "        arm_geometries+=plant.GetCollisionGeometriesForBody(b)\n",
    "        \n",
    "    \n",
    "    to_avoid_geometries = []\n",
    "    bodies = plant.GetBodyIndices(plant.GetModelInstanceByName('block'))\n",
    "    for i in bodies:\n",
    "        to_avoid_geometries+=plant.GetCollisionGeometriesForBody(plant.get_body(i))\n",
    "        \n",
    "    print(to_avoid_geometries)\n",
    "    \n",
    "    \n",
    "    if my_callback:\n",
    "        my_callback(plant_context)\n",
    "        \n",
    "    \n",
    "    def ik_solver():\n",
    "        \n",
    "        # instantiate an IK problem\n",
    "        ik_problem = multibody.inverse_kinematics.InverseKinematics(plant, plant_context)\n",
    "        \n",
    "        end_effector = plant.GetFrameByName(end_link_name)\n",
    "        world = plant.world_frame()\n",
    "\n",
    "        # add a distance constraint to the IK problem (where the hand needs to be)\n",
    "        ik_problem.AddPointToPointDistanceConstraint(end_effector, B, world, desired_pose[0:3], 0, pos_tol) \n",
    "        \n",
    "        \n",
    "        R_AbarA = RotationMatrix(RollPitchYaw(np.array([0,0,0])))\n",
    "        R_BbarB = RotationMatrix(RollPitchYaw(desired_pose[3:]))\n",
    "        \n",
    "        # add an orientatino constraint on the end-effector\n",
    "        ik_problem.AddOrientationConstraint(end_effector, R_AbarA, world, R_BbarB, theta_tol)\n",
    "        \n",
    "        \n",
    "        # add the no-collision constraints \n",
    "        for i in range(len(arm_geometries)):\n",
    "            for j in range(len(to_avoid_geometries)):\n",
    "                pair = (arm_geometries[i], to_avoid_geometries[j])\n",
    "                ik_problem.AddDistanceConstraint(pair, 0.01, 100)\n",
    "\n",
    "\n",
    "        \n",
    "        # get and solve the problem\n",
    "        prog = ik_problem.prog()\n",
    "        result = Solve(prog)\n",
    "        return result\n",
    "        \n",
    "\n",
    "        \n",
    "    def _slider_callback(change, index):\n",
    "        desired_pose[index] = change.new\n",
    "        \n",
    "        result = ik_solver()\n",
    "        \n",
    "        print('Successfully found pose:', result.is_success())\n",
    "      \n",
    "        plant.SetPositions(plant_context, result.GetSolution())\n",
    "        publishing_system.Publish(publishing_context)\n",
    "        if my_callback:\n",
    "            my_callback(plant_context)\n",
    "            \n",
    "    result = ik_solver()\n",
    "        \n",
    "    print('Successfully found pose:', result.is_success())\n",
    "      \n",
    "    plant.SetPositions(plant_context, result.GetSolution())\n",
    "    publishing_system.Publish(publishing_context)\n",
    "    \n",
    "    slider_widgets = []\n",
    "    names = ['x (m)', 'y (m)', 'z (m)', 'roll (rad)', 'pitch (rad)', 'yaw (rad)']\n",
    "\n",
    "    print(desired_pose)\n",
    "    for i in range(num_sliders):\n",
    "        slider = FloatSlider(\n",
    "            value = desired_pose[i],\n",
    "            min = lower_limit[i],\n",
    "            max = upper_limit[i],\n",
    "            step = resolution[i],\n",
    "            continuous_update = continuous_update,\n",
    "            description = names[i],\n",
    "            style = {'description_width': 'initial'},\n",
    "            layour = Layout(width = f\"'{length}'\")\n",
    "        )\n",
    "        slider.observe(partial(_slider_callback, index = i), names = 'value')\n",
    "        display(slider)\n",
    "        slider_widgets.append(slider)\n",
    "        \n",
    "    return slider_widgets\n",
    "    \n",
    "    \n",
    "    \n",
    "    "
   ]
  },
  {
   "cell_type": "code",
   "execution_count": 11,
   "metadata": {},
   "outputs": [],
   "source": [
    "def xyz_rpy_deg(xyz, rpy_deg):\n",
    "    \"\"\"Shorthand for defining a pose.\"\"\"\n",
    "    rpy_deg = np.asarray(rpy_deg)\n",
    "    return RigidTransform(RollPitchYaw(rpy_deg * np.pi / 180), xyz)"
   ]
  },
  {
   "cell_type": "markdown",
   "metadata": {},
   "source": [
    "### Start Meshcat Server"
   ]
  },
  {
   "cell_type": "code",
   "execution_count": 12,
   "metadata": {},
   "outputs": [],
   "source": [
    "server_args = []\n",
    "from meshcat.servers.zmqserver import start_zmq_server_as_subprocess\n",
    "proc, zmq_url, web_url = start_zmq_server_as_subprocess(server_args=server_args)\n"
   ]
  },
  {
   "cell_type": "markdown",
   "metadata": {},
   "source": [
    "### Run the Widget"
   ]
  },
  {
   "cell_type": "code",
   "execution_count": 88,
   "metadata": {
    "scrolled": false
   },
   "outputs": [
    {
     "name": "stdout",
     "output_type": "stream",
     "text": [
      "Connecting to meshcat-server at zmq_url=tcp://127.0.0.1:6012...\n",
      "You can open the visualizer by visiting the following URL:\n",
      "http://127.0.0.1:7012/static/\n",
      "Connected to meshcat-server.\n",
      "starting joint angles: [ 0.  0.  0.  0.  0.  0.  0.  0.  0.]\n",
      "[<GeometryId value=5751>, <GeometryId value=5752>, <GeometryId value=5753>, <GeometryId value=5754>, <GeometryId value=5755>, <GeometryId value=5756>, <GeometryId value=5757>, <GeometryId value=5758>, <GeometryId value=5759>]\n",
      "Successfully found pose: True\n",
      "[ 0.3         0.3         0.3         0.          1.57079633  1.57079633]\n"
     ]
    },
    {
     "data": {
      "application/vnd.jupyter.widget-view+json": {
       "model_id": "15012b8e28244d1d80dd5e9dc21d9ad6"
      }
     },
     "metadata": {},
     "output_type": "display_data"
    },
    {
     "data": {
      "application/vnd.jupyter.widget-view+json": {
       "model_id": "d4d966e00f094afb8e14289b67b8c7cd"
      }
     },
     "metadata": {},
     "output_type": "display_data"
    },
    {
     "data": {
      "application/vnd.jupyter.widget-view+json": {
       "model_id": "49aa0db619f54fb78d769b85cd9f0ec8"
      }
     },
     "metadata": {},
     "output_type": "display_data"
    },
    {
     "data": {
      "application/vnd.jupyter.widget-view+json": {
       "model_id": "65288cfd47d54900b027e1e1a8821cb8"
      }
     },
     "metadata": {},
     "output_type": "display_data"
    },
    {
     "data": {
      "application/vnd.jupyter.widget-view+json": {
       "model_id": "2e6c10a54d4d4c2b9562ee0c88c77624"
      }
     },
     "metadata": {},
     "output_type": "display_data"
    },
    {
     "data": {
      "application/vnd.jupyter.widget-view+json": {
       "model_id": "4d7bb91ab521484cad3e1ccf7068a5d6"
      }
     },
     "metadata": {},
     "output_type": "display_data"
    },
    {
     "name": "stdout",
     "output_type": "stream",
     "text": [
      "Successfully found pose: False\n",
      "Successfully found pose: True\n",
      "Successfully found pose: True\n",
      "Successfully found pose: True\n",
      "Successfully found pose: True\n",
      "Successfully found pose: True\n",
      "Successfully found pose: True\n",
      "Successfully found pose: True\n",
      "Successfully found pose: True\n",
      "Successfully found pose: False\n",
      "Successfully found pose: False\n",
      "Successfully found pose: False\n",
      "Successfully found pose: False\n",
      "Successfully found pose: True\n",
      "Successfully found pose: True\n",
      "Successfully found pose: True\n",
      "Successfully found pose: True\n",
      "Successfully found pose: True\n",
      "Successfully found pose: True\n",
      "Successfully found pose: False\n",
      "Successfully found pose: False\n",
      "Successfully found pose: True\n",
      "Successfully found pose: False\n",
      "Successfully found pose: False\n",
      "Successfully found pose: True\n",
      "Successfully found pose: True\n",
      "Successfully found pose: False\n",
      "Successfully found pose: False\n",
      "Successfully found pose: False\n",
      "Successfully found pose: False\n",
      "Successfully found pose: False\n",
      "Successfully found pose: False\n",
      "Successfully found pose: True\n",
      "Successfully found pose: True\n",
      "Successfully found pose: False\n",
      "Successfully found pose: True\n",
      "Successfully found pose: True\n",
      "Successfully found pose: True\n",
      "Successfully found pose: True\n",
      "Successfully found pose: True\n",
      "Successfully found pose: True\n",
      "Successfully found pose: True\n",
      "Successfully found pose: True\n",
      "Successfully found pose: True\n",
      "Successfully found pose: False\n",
      "Successfully found pose: False\n",
      "Successfully found pose: True\n",
      "Successfully found pose: False\n",
      "Successfully found pose: False\n",
      "Successfully found pose: False\n",
      "Successfully found pose: False\n",
      "Successfully found pose: False\n",
      "Successfully found pose: False\n",
      "Successfully found pose: False\n",
      "Successfully found pose: False\n",
      "Successfully found pose: False\n",
      "Successfully found pose: False\n",
      "Successfully found pose: False\n",
      "Successfully found pose: True\n",
      "Successfully found pose: True\n",
      "Successfully found pose: True\n",
      "Successfully found pose: True\n",
      "Successfully found pose: True\n",
      "Successfully found pose: True\n",
      "Successfully found pose: False\n",
      "Successfully found pose: False\n",
      "Successfully found pose: False\n",
      "Successfully found pose: False\n",
      "Successfully found pose: False\n",
      "Successfully found pose: False\n",
      "Successfully found pose: False\n",
      "Successfully found pose: False\n",
      "Successfully found pose: False\n",
      "Successfully found pose: False\n",
      "Successfully found pose: False\n",
      "Successfully found pose: True\n",
      "Successfully found pose: True\n",
      "Successfully found pose: True\n",
      "Successfully found pose: True\n",
      "Successfully found pose: True\n",
      "Successfully found pose: True\n",
      "Successfully found pose: True\n",
      "Successfully found pose: True\n",
      "Successfully found pose: True\n",
      "Successfully found pose: True\n",
      "Successfully found pose: True\n",
      "Successfully found pose: True\n",
      "Successfully found pose: True\n",
      "Successfully found pose: True\n",
      "Successfully found pose: False\n",
      "Successfully found pose: False\n",
      "Successfully found pose: False\n",
      "Successfully found pose: True\n",
      "Successfully found pose: True\n",
      "Successfully found pose: True\n",
      "Successfully found pose: True\n",
      "Successfully found pose: True\n",
      "Successfully found pose: True\n",
      "Successfully found pose: True\n",
      "Successfully found pose: False\n",
      "Successfully found pose: False\n",
      "Successfully found pose: False\n",
      "Successfully found pose: False\n",
      "Successfully found pose: False\n",
      "Successfully found pose: False\n",
      "Successfully found pose: True\n",
      "Successfully found pose: False\n",
      "Successfully found pose: False\n",
      "Successfully found pose: False\n",
      "Successfully found pose: False\n",
      "Successfully found pose: False\n",
      "Successfully found pose: False\n",
      "Successfully found pose: False\n",
      "Successfully found pose: False\n",
      "Successfully found pose: False\n",
      "Successfully found pose: False\n",
      "Successfully found pose: False\n",
      "Successfully found pose: False\n",
      "Successfully found pose: False\n",
      "Successfully found pose: False\n",
      "Successfully found pose: False\n",
      "Successfully found pose: False\n",
      "Successfully found pose: False\n",
      "Successfully found pose: False\n",
      "Successfully found pose: True\n",
      "Successfully found pose: True\n",
      "Successfully found pose: True\n",
      "Successfully found pose: True\n",
      "Successfully found pose: False\n",
      "Successfully found pose: False\n",
      "Successfully found pose: False\n",
      "Successfully found pose: True\n",
      "Successfully found pose: False\n",
      "Successfully found pose: False\n",
      "Successfully found pose: False\n",
      "Successfully found pose: False\n",
      "Successfully found pose: False\n",
      "Successfully found pose: False\n",
      "Successfully found pose: True\n",
      "Successfully found pose: True\n",
      "Successfully found pose: False\n",
      "Successfully found pose: False\n",
      "Successfully found pose: False\n",
      "Successfully found pose: False\n",
      "Successfully found pose: True\n"
     ]
    }
   ],
   "source": [
    "panda_file = FindResourceOrThrow(\"drake/manipulation/models/franka_description/urdf/panda_arm_hand.urdf\")\n",
    "block_file = \"/home/agrobenj/workspace/models/foam_tower.sdf\"\n",
    "\n",
    "builder = DiagramBuilder()\n",
    "plant, scene_graph = AddMultibodyPlantSceneGraph(builder, time_step=1e-4)\n",
    "panda_model = Parser(plant, scene_graph).AddModelFromFile(panda_file, 'panda')\n",
    "block = Parser(plant, scene_graph).AddModelFromFile(table_file, 'block')\n",
    "plant.WeldFrames(plant.world_frame(),plant.GetFrameByName(\"panda_link0\"))\n",
    "plant.WeldFrames(plant.world_frame(),plant.GetFrameByName(\"base_link\"), xyz_rpy_deg([0,0.25,0.5], [0,0,0]))\n",
    "plant.Finalize()\n",
    "\n",
    "meshcat = ConnectMeshcatVisualizer(builder, scene_graph, zmq_url=zmq_url)\n",
    "diagram = builder.Build()\n",
    "context = diagram.CreateDefaultContext()\n",
    "\n",
    "meshcat.load()\n",
    "MakeIKSlidersThatPublishOnCallback(plant, meshcat, context, \"panda_hand\", np.array([0,0,0]), continuous_update = True);"
   ]
  },
  {
   "cell_type": "code",
   "execution_count": 69,
   "metadata": {},
   "outputs": [
    {
     "ename": "AttributeError",
     "evalue": "'pydrake.multibody.tree.ModelInstanceIndex' object has no attribute 'name'",
     "output_type": "error",
     "traceback": [
      "\u001b[0;31m---------------------------------------------------------------------------\u001b[0m",
      "\u001b[0;31mAttributeError\u001b[0m                            Traceback (most recent call last)",
      "\u001b[0;32m<ipython-input-69-e87df5b583ff>\u001b[0m in \u001b[0;36m<module>\u001b[0;34m()\u001b[0m\n\u001b[0;32m----> 1\u001b[0;31m \u001b[0mplant\u001b[0m\u001b[0;34m.\u001b[0m\u001b[0mGetModelInstanceByName\u001b[0m\u001b[0;34m(\u001b[0m\u001b[0;34m'block'\u001b[0m\u001b[0;34m)\u001b[0m\u001b[0;34m.\u001b[0m\u001b[0mname\u001b[0m\u001b[0;34m\u001b[0m\u001b[0;34m\u001b[0m\u001b[0m\n\u001b[0m",
      "\u001b[0;31mAttributeError\u001b[0m: 'pydrake.multibody.tree.ModelInstanceIndex' object has no attribute 'name'"
     ]
    }
   ],
   "source": []
  },
  {
   "cell_type": "code",
   "execution_count": 29,
   "metadata": {},
   "outputs": [],
   "source": [
    "query_port =plant.get_geometry_query_input_port()"
   ]
  },
  {
   "cell_type": "code",
   "execution_count": 70,
   "metadata": {
    "scrolled": false
   },
   "outputs": [
    {
     "name": "stdout",
     "output_type": "stream",
     "text": [
      "14\n",
      "[<GeometryId value=4113>, <GeometryId value=4115>, <GeometryId value=4117>, <GeometryId value=4119>, <GeometryId value=4121>, <GeometryId value=4123>, <GeometryId value=4125>, <GeometryId value=4127>, <GeometryId value=4129>, <GeometryId value=4131>, <GeometryId value=4133>, <GeometryId value=4135>, <GeometryId value=4137>, <GeometryId value=4139>]\n",
      "[<GeometryId value=4143>, <GeometryId value=4145>, <GeometryId value=4147>, <GeometryId value=4149>, <GeometryId value=4151>, <GeometryId value=4153>]\n",
      "[<GeometryId value=4157>, <GeometryId value=4159>, <GeometryId value=4161>, <GeometryId value=4163>, <GeometryId value=4165>, <GeometryId value=4167>]\n",
      "[<GeometryId value=4171>, <GeometryId value=4173>, <GeometryId value=4175>, <GeometryId value=4177>, <GeometryId value=4179>]\n",
      "[<GeometryId value=4183>, <GeometryId value=4185>, <GeometryId value=4187>, <GeometryId value=4189>, <GeometryId value=4191>, <GeometryId value=4193>, <GeometryId value=4195>]\n",
      "[<GeometryId value=4199>, <GeometryId value=4201>, <GeometryId value=4203>, <GeometryId value=4205>, <GeometryId value=4207>, <GeometryId value=4209>, <GeometryId value=4211>, <GeometryId value=4213>, <GeometryId value=4215>, <GeometryId value=4217>, <GeometryId value=4219>, <GeometryId value=4221>]\n",
      "[<GeometryId value=4225>, <GeometryId value=4227>, <GeometryId value=4229>, <GeometryId value=4231>, <GeometryId value=4233>]\n",
      "[<GeometryId value=4237>, <GeometryId value=4239>]\n",
      "[<GeometryId value=4241>]\n",
      "[<GeometryId value=4245>, <GeometryId value=4247>, <GeometryId value=4249>, <GeometryId value=4251>]\n",
      "[<GeometryId value=4255>, <GeometryId value=4257>]\n",
      "[<GeometryId value=4261>, <GeometryId value=4263>]\n"
     ]
    }
   ],
   "source": [
    "print(plant.num_bodies())\n",
    "bodies = plant.GetBodyIndices(plant.GetModelInstanceByName('panda'))\n",
    "for b in bodies:\n",
    "    print(plant.GetCollisionGeometriesForBody(plant.get_body(b)))"
   ]
  }
 ],
 "metadata": {
  "kernelspec": {
   "display_name": "drake_kernel",
   "language": "python",
   "name": "drake_kernel"
  },
  "language_info": {
   "codemirror_mode": {
    "name": "ipython",
    "version": 3
   },
   "file_extension": ".py",
   "mimetype": "text/x-python",
   "name": "python",
   "nbconvert_exporter": "python",
   "pygments_lexer": "ipython3",
   "version": "3.6.9"
  }
 },
 "nbformat": 4,
 "nbformat_minor": 2
}
