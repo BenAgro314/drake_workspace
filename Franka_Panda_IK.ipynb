{
 "cells": [
  {
   "cell_type": "markdown",
   "metadata": {},
   "source": [
    "# Panda IK"
   ]
  },
  {
   "cell_type": "markdown",
   "metadata": {},
   "source": [
    "## Sliders"
   ]
  },
  {
   "cell_type": "code",
   "execution_count": 8,
   "metadata": {},
   "outputs": [],
   "source": [
    "import numpy as np\n",
    "from functools import partial\n",
    "\n",
    "from ipywidgets import FloatSlider, Layout, Dropdown\n",
    "from IPython.display import display, HTML, SVG\n",
    "\n",
    "from pydrake.common.jupyter import process_ipywidget_events\n",
    "from pydrake.multibody.tree import JointIndex\n",
    "from pydrake.systems.framework import BasicVector, VectorSystem\n",
    "\n",
    "import pydrake.multibody as multibody\n",
    "from pydrake.solvers.mathematicalprogram import MathematicalProgram\n",
    "from pydrake.solvers.mathematicalprogram import Solve\n",
    "\n",
    "from pydrake.all import (\n",
    "    AddMultibodyPlantSceneGraph, ConnectMeshcatVisualizer, DiagramBuilder, \n",
    "    FindResourceOrThrow, GenerateHtml, InverseDynamicsController, \n",
    "    MultibodyPlant, Parser, Simulator)\n",
    "\n",
    "from pydrake.math import RotationMatrix\n",
    "from pydrake.math import RollPitchYaw"
   ]
  },
  {
   "cell_type": "code",
   "execution_count": 47,
   "metadata": {},
   "outputs": [],
   "source": [
    "def MakeIKSlidersThatPublishOnCallback(\n",
    "    plant, publishing_system, root_context, end_link_name, B, pos_tol = 0.01, theta_tol = 0, my_callback = None, \n",
    "        lower_limit = [-0.5,-0.5,0,-np.pi,-np.pi,-np.pi], upper_limit = [0.5,0.5,0.7,np.pi,np.pi,np.pi], resolution = 0.001, length = 400, \n",
    "        continuous_update = True):\n",
    "    \"\"\"\n",
    "    Creates an ipywidget slider for the desired position (TODO: and orientation) of hand link of the plant.\n",
    "    It updates the context and calls Publish directly from slider callback. \n",
    "    This function is based on pydrake/multibody/jupyter_widgets.py\n",
    "    \n",
    "    Args:\n",
    "        plant: A MultibodyPlant\n",
    "        \n",
    "        publishing system: The System whos publish method will be called. Can be the entire Diagram, or just a subsystem\n",
    "        \n",
    "        root_context: A mutable root Context of the Diagram containing the ``plant`` and the ``publishing_system``; we will extract \n",
    "        the subcontext's using `GetMyContextFromRoot`. \n",
    "        \n",
    "        end_link_name: the name of the end_effector link\n",
    "        \n",
    "        B: the position relative to the end effector link that we are trying to get within the bounding box.\n",
    "        \n",
    "        pos_tol: the width of the bounding box tolerance around where the ik problem tries to find a solution\n",
    "        \n",
    "        theta_tol: the tolerance between the desired orientation and the achieved orientation\n",
    "        \n",
    "        my_callback: An optional additional callback function that will be called once immediately and again whenever \n",
    "        the sliders are moved. \n",
    "        \n",
    "        lower_limit: A numpy array of length 6 defining the lower limit of the (x,y,z, roll, pitch, yaw) sliders.\n",
    "        \n",
    "        upper_limit: A numpy array of length 6 defining the upper limit of the (x,y,z, roll, pitch, yaw) sliders.\n",
    "        \n",
    "        resolution: A scalar that specifies the step argument of the FloatSlider.\n",
    "        \n",
    "        length: The length of the sliders, which will be passed as a string to CSS width field and can be any valid CSS\n",
    "        entry (e.g. 100, 100 px).\n",
    "        \n",
    "        continuous_update: The continuous update field for the FloatSliders. The default ``True`` means that this method\n",
    "        will publish/callback as the sliders are dragged. ``False`` means that the publish/callback will only happen\n",
    "        once the user finishes dragging the slider.\n",
    "        \n",
    "    Returns:\n",
    "        A list of slider wiget objects that are created.\n",
    "        \n",
    "    Note that some publishers (like MeshcatVisualizer) use an initialization event to \"load\" the geometry. You should call\n",
    "    that before this method (e.g. with `meshcat.load()`).\n",
    "    \"\"\"\n",
    "    \n",
    "    def _broadcast(x, num):\n",
    "        \"\"\"\n",
    "        Args: scalar ``x``, numpy array of length ``num``\n",
    "        Return: a numpy array of length ``num`` storing x\n",
    "        \"\"\"\n",
    "        x = np.array(x)\n",
    "        assert len(x.shape) <= 1\n",
    "        return np.array(x)*np.ones(num)\n",
    "    \n",
    "    num_sliders = 6\n",
    "    \n",
    "    # make arrays for the slider parameters\n",
    " \n",
    "    resolution = _broadcast(resolution, num_sliders)\n",
    "    desired_pose = np.array([0.3,0.3,0.3, 0,np.pi/2,np.pi/2])\n",
    "    \n",
    "\n",
    "    \n",
    "    publishing_context = publishing_system.GetMyContextFromRoot(root_context) # Returns the mutable subsystem context for this system, given a root context.\n",
    "    plant_context = plant.GetMyContextFromRoot(root_context)\n",
    "    positions = plant.GetPositions(plant_context)\n",
    "    print('starting joint angles:', positions)\n",
    "    \n",
    "    # publish once immediately\n",
    "    publishing_system.Publish(publishing_context)\n",
    "    \n",
    "    \n",
    "    if my_callback:\n",
    "        my_callback(plant_context)\n",
    "        \n",
    "    \n",
    "    def ik_solver():\n",
    "        \n",
    "        # instantiate an IK problem\n",
    "        ik_problem = multibody.inverse_kinematics.InverseKinematics(plant, plant_context)\n",
    "        \n",
    "        end_effector = plant.GetFrameByName(end_link_name)\n",
    "        world = plant.world_frame()\n",
    "\n",
    "        # add a distance constraint to the IK problem (where the hand needs to be)\n",
    "        ik_problem.AddPointToPointDistanceConstraint(end_effector, B, world, desired_pose[0:3], 0, pos_tol) \n",
    "        \n",
    "        \n",
    "        R_AbarA = RotationMatrix(RollPitchYaw(np.array([0,0,0])))\n",
    "        R_BbarB = RotationMatrix(RollPitchYaw(desired_pose[3:]))\n",
    "        \n",
    "        ik_problem.AddOrientationConstraint(end_effector, R_AbarA, world, R_BbarB, theta_tol)\n",
    "        \n",
    "        # get and solve the problem\n",
    "        prog = ik_problem.prog()\n",
    "        result = Solve(prog)\n",
    "        return result\n",
    "        \n",
    "\n",
    "        \n",
    "    def _slider_callback(change, index):\n",
    "        desired_pose[index] = change.new\n",
    "        \n",
    "        result = ik_solver()\n",
    "        \n",
    "        print('Successfully found pose:', result.is_success())\n",
    "      \n",
    "        plant.SetPositions(plant_context, result.GetSolution())\n",
    "        publishing_system.Publish(publishing_context)\n",
    "        if my_callback:\n",
    "            my_callback(plant_context)\n",
    "            \n",
    "    result = ik_solver()\n",
    "        \n",
    "    print('Successfully found pose:', result.is_success())\n",
    "      \n",
    "    plant.SetPositions(plant_context, result.GetSolution())\n",
    "    publishing_system.Publish(publishing_context)\n",
    "    \n",
    "    slider_widgets = []\n",
    "    names = ['x (m)', 'y (m)', 'z (m)', 'roll (rad)', 'pitch (rad)', 'yaw (rad)']\n",
    "\n",
    "    print(desired_pose)\n",
    "    for i in range(num_sliders):\n",
    "        slider = FloatSlider(\n",
    "            value = desired_pose[i],\n",
    "            min = lower_limit[i],\n",
    "            max = upper_limit[i],\n",
    "            step = resolution[i],\n",
    "            continuous_update = continuous_update,\n",
    "            description = names[i],\n",
    "            style = {'description_width': 'initial'},\n",
    "            layour = Layout(width = f\"'{length}'\")\n",
    "        )\n",
    "        slider.observe(partial(_slider_callback, index = i), names = 'value')\n",
    "        display(slider)\n",
    "        slider_widgets.append(slider)\n",
    "        \n",
    "    return slider_widgets\n",
    "    \n",
    "    \n",
    "    \n",
    "    "
   ]
  },
  {
   "cell_type": "markdown",
   "metadata": {},
   "source": [
    "### Start Meshcat Server"
   ]
  },
  {
   "cell_type": "code",
   "execution_count": 12,
   "metadata": {},
   "outputs": [],
   "source": [
    "server_args = []\n",
    "from meshcat.servers.zmqserver import start_zmq_server_as_subprocess\n",
    "proc, zmq_url, web_url = start_zmq_server_as_subprocess(server_args=server_args)\n"
   ]
  },
  {
   "cell_type": "markdown",
   "metadata": {},
   "source": [
    "### Run the Widget"
   ]
  },
  {
   "cell_type": "code",
   "execution_count": 51,
   "metadata": {
    "scrolled": true
   },
   "outputs": [
    {
     "name": "stdout",
     "output_type": "stream",
     "text": [
      "Connecting to meshcat-server at zmq_url=tcp://127.0.0.1:6016...\n",
      "You can open the visualizer by visiting the following URL:\n",
      "http://127.0.0.1:7016/static/\n",
      "Connected to meshcat-server.\n",
      "starting joint angles: [0. 0. 0. 0. 0. 0. 0. 0. 0.]\n",
      "Successfully found pose: True\n",
      "[0.3        0.3        0.3        0.         1.57079633 1.57079633]\n"
     ]
    },
    {
     "data": {
      "application/vnd.jupyter.widget-view+json": {
       "model_id": "4e908b3c79894fa6bf1574c9c3e2d20b"
      }
     },
     "metadata": {},
     "output_type": "display_data"
    },
    {
     "data": {
      "application/vnd.jupyter.widget-view+json": {
       "model_id": "474f1000591f437c9d4d28f6d5848b78"
      }
     },
     "metadata": {},
     "output_type": "display_data"
    },
    {
     "data": {
      "application/vnd.jupyter.widget-view+json": {
       "model_id": "c12f3527bc44401dbd08a188b1ac01b9"
      }
     },
     "metadata": {},
     "output_type": "display_data"
    },
    {
     "data": {
      "application/vnd.jupyter.widget-view+json": {
       "model_id": "6f8f43b1051e4b908f4f01ce2da3fa87"
      }
     },
     "metadata": {},
     "output_type": "display_data"
    },
    {
     "data": {
      "application/vnd.jupyter.widget-view+json": {
       "model_id": "2505715ad4744ef7b68e2ee5f5ff96b1"
      }
     },
     "metadata": {},
     "output_type": "display_data"
    },
    {
     "data": {
      "application/vnd.jupyter.widget-view+json": {
       "model_id": "6dde0b5bac974351b3acbaeb1a3baa6f"
      }
     },
     "metadata": {},
     "output_type": "display_data"
    },
    {
     "name": "stdout",
     "output_type": "stream",
     "text": [
      "Successfully found pose: True\n",
      "Successfully found pose: False\n",
      "Successfully found pose: True\n",
      "Successfully found pose: True\n",
      "Successfully found pose: True\n",
      "Successfully found pose: False\n",
      "Successfully found pose: True\n",
      "Successfully found pose: False\n",
      "Successfully found pose: True\n",
      "Successfully found pose: True\n",
      "Successfully found pose: True\n",
      "Successfully found pose: True\n",
      "Successfully found pose: True\n"
     ]
    }
   ],
   "source": [
    "panda_file = FindResourceOrThrow(\"drake/manipulation/models/franka_description/urdf/panda_arm_hand.urdf\")\n",
    "\n",
    "builder = DiagramBuilder()\n",
    "panda, scene_graph = AddMultibodyPlantSceneGraph(builder, time_step=1e-4)\n",
    "Parser(panda, scene_graph).AddModelFromFile(panda_file)\n",
    "panda.WeldFrames(panda.world_frame(),panda.GetFrameByName(\"panda_link0\"))\n",
    "panda.Finalize()\n",
    "\n",
    "meshcat = ConnectMeshcatVisualizer(builder, scene_graph, zmq_url=zmq_url)\n",
    "diagram = builder.Build()\n",
    "context = diagram.CreateDefaultContext()\n",
    "\n",
    "meshcat.load()\n",
    "MakeIKSlidersThatPublishOnCallback(panda, meshcat, context, \"panda_hand\", np.array([0,0,0]), continuous_update = False);"
   ]
  }
 ],
 "metadata": {
  "kernelspec": {
   "display_name": "drake_env",
   "language": "python",
   "name": "drake_env"
  },
  "language_info": {
   "codemirror_mode": {
    "name": "ipython",
    "version": 3
   },
   "file_extension": ".py",
   "mimetype": "text/x-python",
   "name": "python",
   "nbconvert_exporter": "python",
   "pygments_lexer": "ipython3",
   "version": "3.6.9"
  }
 },
 "nbformat": 4,
 "nbformat_minor": 2
}
