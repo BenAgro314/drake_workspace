{
 "cells": [
  {
   "cell_type": "markdown",
   "metadata": {},
   "source": [
    "# Panda IK"
   ]
  },
  {
   "cell_type": "markdown",
   "metadata": {},
   "source": [
    "## Sliders"
   ]
  },
  {
   "cell_type": "code",
   "execution_count": 8,
   "metadata": {},
   "outputs": [],
   "source": [
    "import numpy as np\n",
    "from functools import partial\n",
    "\n",
    "from ipywidgets import FloatSlider, Layout, Dropdown\n",
    "from IPython.display import display, HTML, SVG\n",
    "\n",
    "from pydrake.common.jupyter import process_ipywidget_events\n",
    "from pydrake.multibody.tree import JointIndex\n",
    "from pydrake.systems.framework import BasicVector, VectorSystem\n",
    "\n",
    "import pydrake.multibody as multibody\n",
    "from pydrake.solvers.mathematicalprogram import MathematicalProgram\n",
    "from pydrake.solvers.mathematicalprogram import Solve\n",
    "\n",
    "from pydrake.all import (\n",
    "    AddMultibodyPlantSceneGraph, ConnectMeshcatVisualizer, DiagramBuilder, \n",
    "    FindResourceOrThrow, GenerateHtml, InverseDynamicsController, \n",
    "    MultibodyPlant, Parser, Simulator)\n",
    "\n",
    "from pydrake.math import RotationMatrix\n",
    "from pydrake.math import RollPitchYaw"
   ]
  },
  {
   "cell_type": "code",
   "execution_count": 16,
   "metadata": {},
   "outputs": [],
   "source": [
    "def MakeIKSlidersThatPublishOnCallback(\n",
    "    plant, publishing_system, root_context, end_link_name, B, pos_tol = 0.02, theta_tol = 0.01, my_callback = None, \n",
    "        lower_limit = [0,0,0,0,0,0], upper_limit = [1,1,1,2*np.pi,2*np.pi,2*np.pi], resolution = 0.001, length = 400, \n",
    "        continuous_update = True):\n",
    "    \"\"\"\n",
    "    Creates an ipywidget slider for the desired position (TODO: and orientation) of hand link of the plant.\n",
    "    It updates the context and calls Publish directly from slider callback. \n",
    "    This function is based on pydrake/multibody/jupyter_widgets.py\n",
    "    \n",
    "    Args:\n",
    "        plant: A MultibodyPlant\n",
    "        \n",
    "        publishing system: The System whos publish method will be called. Can be the entire Diagram, or just a subsystem\n",
    "        \n",
    "        root_context: A mutable root Context of the Diagram containing the ``plant`` and the ``publishing_system``; we will extract \n",
    "        the subcontext's using `GetMyContextFromRoot`. \n",
    "        \n",
    "        end_link_name: the name of the end_effector link\n",
    "        \n",
    "        B: the position relative to the end effector link that we are trying to get within the bounding box.\n",
    "        \n",
    "        pos_tol: the width of the bounding box tolerance around where the ik problem tries to find a solution\n",
    "        \n",
    "        theta_tol: the tolerance between the desired orientation and the achieved orientation\n",
    "        \n",
    "        my_callback: An optional additional callback function that will be called once immediately and again whenever \n",
    "        the sliders are moved. \n",
    "        \n",
    "        lower_limit: A numpy array of length 6 defining the lower limit of the (x,y,z, roll, pitch, yaw) sliders.\n",
    "        \n",
    "        upper_limit: A numpy array of length 6 defining the upper limit of the (x,y,z, roll, pitch, yaw) sliders.\n",
    "        \n",
    "        resolution: A scalar that specifies the step argument of the FloatSlider.\n",
    "        \n",
    "        length: The length of the sliders, which will be passed as a string to CSS width field and can be any valid CSS\n",
    "        entry (e.g. 100, 100 px).\n",
    "        \n",
    "        continuous_update: The continuous update field for the FloatSliders. The default ``True`` means that this method\n",
    "        will publish/callback as the sliders are dragged. ``False`` means that the publish/callback will only happen\n",
    "        once the user finishes dragging the slider.\n",
    "        \n",
    "    Returns:\n",
    "        A list of slider wiget objects that are created.\n",
    "        \n",
    "    Note that some publishers (like MeshcatVisualizer) use an initialization event to \"load\" the geometry. You should call\n",
    "    that before this method (e.g. with `meshcat.load()`).\n",
    "    \"\"\"\n",
    "    \n",
    "    def _broadcast(x, num):\n",
    "        \"\"\"\n",
    "        Args: scalar ``x``, numpy array of length ``num``\n",
    "        Return: a numpy array of length ``num`` storing x\n",
    "        \"\"\"\n",
    "        x = np.array(x)\n",
    "        assert len(x.shape) <= 1\n",
    "        return np.array(x)*np.ones(num)\n",
    "    \n",
    "    num_sliders = 6\n",
    "    \n",
    "    # make arrays for the slider parameters\n",
    " \n",
    "    resolution = _broadcast(resolution, num_sliders)\n",
    "    desired_pose = np.array([0.5,0.5,0.5, 0,0,0])\n",
    "    \n",
    "\n",
    "    \n",
    "    publishing_context = publishing_system.GetMyContextFromRoot(root_context) # Returns the mutable subsystem context for this system, given a root context.\n",
    "    plant_context = plant.GetMyContextFromRoot(root_context)\n",
    "    positions = plant.GetPositions(plant_context)\n",
    "    print('starting joint angles:', positions)\n",
    "    \n",
    "    # publish once immediately\n",
    "    publishing_system.Publish(publishing_context)\n",
    "    if my_callback:\n",
    "        my_callback(plant_context)\n",
    "        \n",
    "    \n",
    "    def ik_solver():\n",
    "        # create the bounding box where we want the end-effector\n",
    "        p_AQ_lower = desired_pose[0:3] - pos_tol*0.5 \n",
    "        p_AQ_upper = desired_pose[0:3] + pos_tol*0.5\n",
    "        \n",
    "        # instantiate an IK problem\n",
    "        ik_problem = multibody.inverse_kinematics.InverseKinematics(plant, plant_context)\n",
    "\n",
    "        # add a position constraint to the IK problem (where the hand needs to be)\n",
    "        ik_problem.AddPositionConstraint(plant.GetFrameByName(end_link_name), B, plant.world_frame(), p_AQ_lower,p_AQ_upper)\n",
    "        \n",
    "        R_AbarA = RotationMatrix(RollPitchYaw(np.array([0,0,0])))\n",
    "        R_BbarB = RotationMatrix(RollPitchYay(desired_pose[3:]))\n",
    "        \n",
    "        ik_problem.AddOrientationConstraint(plant.GetFrameByName(end_link_name), R_AbarA, plant.world_frame(), R_BbarB, theta_tol)\n",
    "        \n",
    "        # get and solve the problem\n",
    "        prog = ik_problem.prog()\n",
    "        result = Solve(prog)\n",
    "        \n",
    "\n",
    "        \n",
    "    def _slider_callback(change, index):\n",
    "        desired_pose[index] = change.new\n",
    "        \n",
    "        result = ik_solver()\n",
    "      \n",
    "        plant.SetPositions(plant_context, result.GetSolution())\n",
    "        publishing_system.Publish(publishing_context)\n",
    "        if my_callback:\n",
    "            my_callback(plant_context)\n",
    "    \n",
    "    slider_widgets = []\n",
    "    names = ['x (m)', 'y (m)', 'z (m)', 'roll (rad)', 'pitch (rad)', 'yaw (rad)']\n",
    "\n",
    "    print(desired_pose)\n",
    "    for i in range(num_sliders):\n",
    "        slider = FloatSlider(\n",
    "            value = desired_pose[i],\n",
    "            min = lower_limit[i],\n",
    "            max = upper_limit[i],\n",
    "            step = resolution[i],\n",
    "            continuous_update = continuous_update,\n",
    "            description = names[i],\n",
    "            style = {'description_width': 'initial'},\n",
    "            layour = Layout(width = f\"'{length}'\")\n",
    "        )\n",
    "        slider.observe(partial(_slider_callback, index = i), names = 'value')\n",
    "        display(slider)\n",
    "        slider_widgets.append(slider)\n",
    "        \n",
    "    return slider_widgets\n",
    "    \n",
    "    \n",
    "    \n",
    "    "
   ]
  },
  {
   "cell_type": "markdown",
   "metadata": {},
   "source": [
    "### Start Meshcat Server"
   ]
  },
  {
   "cell_type": "code",
   "execution_count": 12,
   "metadata": {},
   "outputs": [],
   "source": [
    "server_args = []\n",
    "from meshcat.servers.zmqserver import start_zmq_server_as_subprocess\n",
    "proc, zmq_url, web_url = start_zmq_server_as_subprocess(server_args=server_args)\n"
   ]
  },
  {
   "cell_type": "code",
   "execution_count": 17,
   "metadata": {
    "scrolled": true
   },
   "outputs": [
    {
     "name": "stdout",
     "output_type": "stream",
     "text": [
      "Connecting to meshcat-server at zmq_url=tcp://127.0.0.1:6016...\n",
      "You can open the visualizer by visiting the following URL:\n",
      "http://127.0.0.1:7016/static/\n",
      "Connected to meshcat-server.\n",
      "starting joint angles: [0. 0. 0. 0. 0. 0. 0. 0. 0.]\n",
      "[0.5 0.5 0.5 0.  0.  0. ]\n"
     ]
    },
    {
     "data": {
      "application/vnd.jupyter.widget-view+json": {
       "model_id": "57adc8b0eec84b04ac27f562f5b020d3"
      }
     },
     "metadata": {},
     "output_type": "display_data"
    },
    {
     "data": {
      "application/vnd.jupyter.widget-view+json": {
       "model_id": "e34dcfdcbced455f8fb6ab0a37dfc0a8"
      }
     },
     "metadata": {},
     "output_type": "display_data"
    },
    {
     "data": {
      "application/vnd.jupyter.widget-view+json": {
       "model_id": "1e39867ea4c14f068f3301a1a0c92db0"
      }
     },
     "metadata": {},
     "output_type": "display_data"
    },
    {
     "data": {
      "application/vnd.jupyter.widget-view+json": {
       "model_id": "aacb82c133db43539e77f1b7a3bb344c"
      }
     },
     "metadata": {},
     "output_type": "display_data"
    },
    {
     "data": {
      "application/vnd.jupyter.widget-view+json": {
       "model_id": "891e2a38b2b745bfba107550317e6756"
      }
     },
     "metadata": {},
     "output_type": "display_data"
    },
    {
     "data": {
      "application/vnd.jupyter.widget-view+json": {
       "model_id": "f0c04d62f4e7407688960d610b8c96d5"
      }
     },
     "metadata": {},
     "output_type": "display_data"
    }
   ],
   "source": [
    "panda_file = FindResourceOrThrow(\"drake/manipulation/models/franka_description/urdf/panda_arm_hand.urdf\")\n",
    "\n",
    "builder = DiagramBuilder()\n",
    "plant, scene_graph = AddMultibodyPlantSceneGraph(builder, time_step=1e-4)\n",
    "Parser(plant, scene_graph).AddModelFromFile(panda_file)\n",
    "plant.WeldFrames(plant.world_frame(), plant.GetFrameByName(\"panda_link0\"))\n",
    "plant.Finalize()\n",
    "\n",
    "meshcat = ConnectMeshcatVisualizer(builder, scene_graph, zmq_url=zmq_url)\n",
    "diagram = builder.Build()\n",
    "context = diagram.CreateDefaultContext()\n",
    "\n",
    "meshcat.load()\n",
    "MakeIKSlidersThatPublishOnCallback(plant, meshcat, context, \"panda_hand\", np.array([0,0,0]), continuous_update = True);"
   ]
  },
  {
   "cell_type": "code",
   "execution_count": 10,
   "metadata": {},
   "outputs": [
    {
     "name": "stdout",
     "output_type": "stream",
     "text": [
      "[1 2 3]\n",
      "[4 5 6]\n"
     ]
    }
   ],
   "source": [
    "L = np.array([1,2,3,4,5,6])\n",
    "print(L[0:3])\n",
    "print(L[3:])"
   ]
  }
 ],
 "metadata": {
  "kernelspec": {
   "display_name": "drake_env",
   "language": "python",
   "name": "drake_env"
  },
  "language_info": {
   "codemirror_mode": {
    "name": "ipython",
    "version": 3
   },
   "file_extension": ".py",
   "mimetype": "text/x-python",
   "name": "python",
   "nbconvert_exporter": "python",
   "pygments_lexer": "ipython3",
   "version": "3.6.9"
  }
 },
 "nbformat": 4,
 "nbformat_minor": 2
}
