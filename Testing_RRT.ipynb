{
 "cells": [
  {
   "cell_type": "code",
   "execution_count": 1,
   "metadata": {},
   "outputs": [],
   "source": [
    "from PandaStation import PandaStation\n",
    "from PandaStation import AddShape\n",
    "\n",
    "# Start a single meshcat server instance to use for the remainder of this notebook.\n",
    "from meshcat.servers.zmqserver import start_zmq_server_as_subprocess\n",
    "proc, zmq_url, web_url = start_zmq_server_as_subprocess(server_args=[])\n",
    "\n",
    "# Let's do all of our imports here, too.\n",
    "import numpy as np\n",
    "import ipywidgets\n",
    "import pydot\n",
    "import pydrake.all\n",
    "import os\n",
    "from IPython.display import display, SVG\n",
    "\n",
    "\n",
    "\n",
    "import pydrake.all\n",
    "from pydrake.geometry import Cylinder, Box\n",
    "from pydrake.all import (\n",
    "    RigidTransform, RotationMatrix, AngleAxis, RollPitchYaw, InverseKinematics, MultibodyPlant, Parser,\n",
    "    FindResourceOrThrow, Solve, PiecewisePolynomial, TrajectorySource, SceneGraph, DiagramBuilder,\n",
    "    AddMultibodyPlantSceneGraph, LinearBushingRollPitchYaw, MathematicalProgram, AutoDiffXd, GenerateHtml, Role\n",
    "    )\n",
    "from PandaInverseKinematics import PandaInverseKinematics, PandaIKTraj, Waypoint, Trajectory\n",
    "from RRT import RRT"
   ]
  },
  {
   "cell_type": "code",
   "execution_count": null,
   "metadata": {},
   "outputs": [],
   "source": [
    "start = "
   ]
  }
 ],
 "metadata": {
  "kernelspec": {
   "display_name": "drake_env",
   "language": "python",
   "name": "drake_env"
  },
  "language_info": {
   "codemirror_mode": {
    "name": "ipython",
    "version": 3
   },
   "file_extension": ".py",
   "mimetype": "text/x-python",
   "name": "python",
   "nbconvert_exporter": "python",
   "pygments_lexer": "ipython3",
   "version": "3.6.9"
  }
 },
 "nbformat": 4,
 "nbformat_minor": 2
}
