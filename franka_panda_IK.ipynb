{
 "cells": [
  {
   "cell_type": "markdown",
   "metadata": {},
   "source": [
    "# Setup"
   ]
  },
  {
   "cell_type": "code",
   "execution_count": 80,
   "metadata": {},
   "outputs": [],
   "source": [
    "# Start a single meshcat server instance to use for the remainder of this notebook.\n",
    "server_args = []\n",
    "from meshcat.servers.zmqserver import start_zmq_server_as_subprocess\n",
    "proc, zmq_url, web_url = start_zmq_server_as_subprocess(server_args=server_args)\n",
    "\n",
    "\n",
    "# Imports\n",
    "import numpy as np\n",
    "import pydot\n",
    "from ipywidgets import Dropdown, Layout\n",
    "from IPython.display import display, HTML, SVG\n",
    "\n",
    "from pydrake.all import (\n",
    "    AddMultibodyPlantSceneGraph, ConnectMeshcatVisualizer, DiagramBuilder, \n",
    "    FindResourceOrThrow, GenerateHtml, InverseDynamicsController, \n",
    "    MultibodyPlant, Parser, Simulator)\n",
    "from pydrake.multibody.jupyter_widgets import MakeJointSlidersThatPublishOnCallback"
   ]
  },
  {
   "cell_type": "code",
   "execution_count": 81,
   "metadata": {
    "scrolled": true
   },
   "outputs": [
    {
     "data": {
      "text/plain": [
       "'/python_venvs/drake_env/lib/python3.6/site-packages/pydrake/multibody/jupyter_widgets.py'"
      ]
     },
     "execution_count": 81,
     "metadata": {},
     "output_type": "execute_result"
    }
   ],
   "source": [
    "import pydrake.multibody.jupyter_widgets\n",
    "pydrake.multibody.jupyter_widgets.__file__"
   ]
  },
  {
   "cell_type": "code",
   "execution_count": 61,
   "metadata": {
    "collapsed": true
   },
   "outputs": [],
   "source": [
    "import pydrake.multibody as mb\n",
    "from pydrake.solvers.mathematicalprogram import MathematicalProgram\n",
    "from pydrake.solvers.mathematicalprogram import Solve"
   ]
  },
  {
   "cell_type": "markdown",
   "metadata": {},
   "source": [
    "# IK testing"
   ]
  },
  {
   "cell_type": "code",
   "execution_count": 62,
   "metadata": {},
   "outputs": [],
   "source": [
    "from pydrake.geometry import DrakeVisualizer\n",
    "from pydrake.geometry.render import (\n",
    "    ClippingRange,\n",
    "    DepthRange,\n",
    "    DepthRenderCamera,\n",
    "    RenderCameraCore,\n",
    "    RenderLabel,\n",
    "    MakeRenderEngineVtk,\n",
    "    RenderEngineVtkParams,\n",
    ")"
   ]
  },
  {
   "cell_type": "code",
   "execution_count": 63,
   "metadata": {
    "scrolled": true
   },
   "outputs": [
    {
     "data": {
      "text/plain": [
       "<pydrake.geometry.DrakeVisualizer_[float] at 0x7f91e73d0970>"
      ]
     },
     "execution_count": 63,
     "metadata": {},
     "output_type": "execute_result"
    }
   ],
   "source": [
    "builder = DiagramBuilder()\n",
    "\n",
    "# Adds both MultibodyPlant and the SceneGraph, and wires them together.\n",
    "plant, scene_graph = AddMultibodyPlantSceneGraph(builder, 0.0)\n",
    "# Note that we parse into both the plant and the scene_graph here.\n",
    "Parser(plant, scene_graph).AddModelFromFile(\n",
    "        FindResourceOrThrow(\"drake/manipulation/models/franka_description/urdf/panda_arm.urdf\"))\n",
    "plant.WeldFrames(plant.world_frame(), plant.GetFrameByName(\"panda_link0\"))\n",
    "\n",
    "renderer_name = \"renderer\"\n",
    "scene_graph.AddRenderer(\n",
    "    renderer_name, MakeRenderEngineVtk(RenderEngineVtkParams()))\n",
    "DrakeVisualizer.AddToBuilder(builder, scene_graph)\n",
    "#plant.Finalize()\n",
    "\n",
    "\n"
   ]
  },
  {
   "cell_type": "code",
   "execution_count": 68,
   "metadata": {
    "scrolled": true
   },
   "outputs": [
    {
     "ename": "RuntimeError",
     "evalue": "MultibodyTreeSystem::Finalize(): repeated calls not allowed.",
     "output_type": "error",
     "traceback": [
      "\u001b[0;31m---------------------------------------------------------------------------\u001b[0m",
      "\u001b[0;31mRuntimeError\u001b[0m                              Traceback (most recent call last)",
      "\u001b[0;32m<ipython-input-68-bd4e5a6d45c9>\u001b[0m in \u001b[0;36m<module>\u001b[0;34m()\u001b[0m\n\u001b[0;32m----> 1\u001b[0;31m \u001b[0mplant\u001b[0m\u001b[0;34m.\u001b[0m\u001b[0mFinalize\u001b[0m\u001b[0;34m(\u001b[0m\u001b[0;34m)\u001b[0m\u001b[0;34m\u001b[0m\u001b[0;34m\u001b[0m\u001b[0m\n\u001b[0m\u001b[1;32m      2\u001b[0m \u001b[0mdiagram\u001b[0m \u001b[0;34m=\u001b[0m \u001b[0mbuilder\u001b[0m\u001b[0;34m.\u001b[0m\u001b[0mBuild\u001b[0m\u001b[0;34m(\u001b[0m\u001b[0;34m)\u001b[0m\u001b[0;34m\u001b[0m\u001b[0;34m\u001b[0m\u001b[0m\n",
      "\u001b[0;31mRuntimeError\u001b[0m: MultibodyTreeSystem::Finalize(): repeated calls not allowed."
     ]
    }
   ],
   "source": [
    "plant.Finalize()\n",
    "diagram = builder.Build()"
   ]
  },
  {
   "cell_type": "code",
   "execution_count": 65,
   "metadata": {},
   "outputs": [],
   "source": [
    "diagram_context = diagram.CreateDefaultContext()\n",
    "plant_context = plant.GetMyMutableContextFromRoot(diagram_context)"
   ]
  },
  {
   "cell_type": "code",
   "execution_count": 66,
   "metadata": {},
   "outputs": [
    {
     "name": "stdout",
     "output_type": "stream",
     "text": [
      "Found solution: True\n",
      "Best solution: [ 0.55878732  1.56969074  2.8973     -0.3144658  -0.9665281   0.93530969\n",
      "  0.        ]\n"
     ]
    }
   ],
   "source": [
    "#meshcat.load()\n",
    "B = np.array([0,0,0])\n",
    "\n",
    "# bounding box where we want the solution\n",
    "x = 0.5\n",
    "y = 0.5\n",
    "z = 0.5\n",
    "tol = 0.1\n",
    "p_AQ_lower = np.array([x,y,z]) \n",
    "p_AQ_upper = np.array([x+tol,y+tol,z+tol])\n",
    "\n",
    "# instantiate an IK problem\n",
    "ik = mb.inverse_kinematics.InverseKinematics(plant, plant_context)\n",
    "\n",
    "# add a position constraint to the IK problem (where the hand needs to be)\n",
    "ik.AddPositionConstraint(plant.GetFrameByName(\"panda_link8\"), B, plant.world_frame(), p_AQ_lower,p_AQ_upper)\n",
    "\n",
    "# get the problem \n",
    "prog = ik.prog()\n",
    "\n",
    "# solve the problem\n",
    "result = Solve(prog)\n",
    "\n",
    "print(\"Found solution:\", result.is_success())\n",
    "print(\"Best solution:\", result.GetSolution())\n",
    "\n",
    "#plant.SetPositions(plant_context, [0, 0, 0, 0, 0, 0, 0,0,0])\n",
    "plant.SetPositions(plant_context, result.GetSolution())\n",
    "meshcat.load()"
   ]
  },
  {
   "cell_type": "code",
   "execution_count": 67,
   "metadata": {},
   "outputs": [
    {
     "name": "stdout",
     "output_type": "stream",
     "text": [
      "You can open the visualizer by visiting the following URL:\n",
      "http://127.0.0.1:7006/static/\n",
      "Connected to meshcat-server.\n"
     ]
    },
    {
     "data": {
      "text/plain": [
       "<pydrake.systems.analysis.SimulatorStatus at 0x7f91e7438a30>"
      ]
     },
     "execution_count": 67,
     "metadata": {},
     "output_type": "execute_result"
    }
   ],
   "source": [
    "#meshcat = ConnectMeshcatVisualizer(builder, scene_graph, zmq_url=zmq_url)\n",
    "#diagram = builder.Build()\n",
    "#context = diagram.CreateDefaultContext()\n",
    "#plant_context = plant.GetMyMutableContextFromRoot(context)\n",
    "meshcat_vis = ConnectMeshcatVisualizer(builder, scene_graph, zmq_url=\"new\", open_browser=False)\n",
    "meshcat_vis.vis.jupyter_cell()\n",
    "\n",
    "simulator = Simulator(diagram)\n",
    "simulator.Initialize()"
   ]
  },
  {
   "cell_type": "code",
   "execution_count": 55,
   "metadata": {},
   "outputs": [
    {
     "name": "stdout",
     "output_type": "stream",
     "text": [
      "[ 0.55878732  1.56969074  2.8973     -0.3144658  -0.9665281   0.93530969\n",
      "  0.        ]\n"
     ]
    }
   ],
   "source": [
    "print(plant.GetMutablePositions(plant_context))"
   ]
  },
  {
   "cell_type": "code",
   "execution_count": 59,
   "metadata": {},
   "outputs": [
    {
     "ename": "TypeError",
     "evalue": "get_actuation_input_port(): incompatible function arguments. The following argument types are supported:\n    1. (self: pydrake.multibody.plant.MultibodyPlant_[float]) -> pydrake.systems.framework.InputPort_[float]\n    2. (self: pydrake.multibody.plant.MultibodyPlant_[float], model_instance: pydrake.multibody.tree.ModelInstanceIndex) -> pydrake.systems.framework.InputPort_[float]\n\nInvoked with: <pydrake.multibody.plant.MultibodyPlant_[float] object at 0x7f91e742ec70>, <pydrake.multibody.plant.MultibodyPlant_[float] object at 0x7f91e742ec70>",
     "output_type": "error",
     "traceback": [
      "\u001b[0;31m---------------------------------------------------------------------------\u001b[0m",
      "\u001b[0;31mTypeError\u001b[0m                                 Traceback (most recent call last)",
      "\u001b[0;32m<ipython-input-59-c2f8030ed708>\u001b[0m in \u001b[0;36m<module>\u001b[0;34m()\u001b[0m\n\u001b[1;32m      1\u001b[0m \u001b[0mmeshcat_vis\u001b[0m\u001b[0;34m.\u001b[0m\u001b[0mreset_recording\u001b[0m\u001b[0;34m(\u001b[0m\u001b[0;34m)\u001b[0m\u001b[0;34m\u001b[0m\u001b[0;34m\u001b[0m\u001b[0m\n\u001b[0;32m----> 2\u001b[0;31m \u001b[0mplant\u001b[0m\u001b[0;34m.\u001b[0m\u001b[0mget_actuation_input_port\u001b[0m\u001b[0;34m(\u001b[0m\u001b[0mplant\u001b[0m\u001b[0;34m)\u001b[0m\u001b[0;34m.\u001b[0m\u001b[0mFixValue\u001b[0m\u001b[0;34m(\u001b[0m\u001b[0mplant_context\u001b[0m\u001b[0;34m,\u001b[0m \u001b[0mnp\u001b[0m\u001b[0;34m.\u001b[0m\u001b[0mzeros\u001b[0m\u001b[0;34m(\u001b[0m\u001b[0;34m(\u001b[0m\u001b[0;36m7\u001b[0m\u001b[0;34m,\u001b[0m\u001b[0;36m1\u001b[0m\u001b[0;34m)\u001b[0m\u001b[0;34m)\u001b[0m\u001b[0;34m)\u001b[0m\u001b[0;34m\u001b[0m\u001b[0;34m\u001b[0m\u001b[0m\n\u001b[0m\u001b[1;32m      3\u001b[0m \u001b[0;31m# Start recording and simulate.\u001b[0m\u001b[0;34m\u001b[0m\u001b[0;34m\u001b[0m\u001b[0;34m\u001b[0m\u001b[0m\n\u001b[1;32m      4\u001b[0m \u001b[0mmeshcat_vis\u001b[0m\u001b[0;34m.\u001b[0m\u001b[0mstart_recording\u001b[0m\u001b[0;34m(\u001b[0m\u001b[0;34m)\u001b[0m\u001b[0;34m\u001b[0m\u001b[0;34m\u001b[0m\u001b[0m\n\u001b[1;32m      5\u001b[0m \u001b[0msimulator\u001b[0m\u001b[0;34m.\u001b[0m\u001b[0mAdvanceTo\u001b[0m\u001b[0;34m(\u001b[0m\u001b[0;36m1.0\u001b[0m\u001b[0;34m)\u001b[0m\u001b[0;34m\u001b[0m\u001b[0;34m\u001b[0m\u001b[0m\n",
      "\u001b[0;31mTypeError\u001b[0m: get_actuation_input_port(): incompatible function arguments. The following argument types are supported:\n    1. (self: pydrake.multibody.plant.MultibodyPlant_[float]) -> pydrake.systems.framework.InputPort_[float]\n    2. (self: pydrake.multibody.plant.MultibodyPlant_[float], model_instance: pydrake.multibody.tree.ModelInstanceIndex) -> pydrake.systems.framework.InputPort_[float]\n\nInvoked with: <pydrake.multibody.plant.MultibodyPlant_[float] object at 0x7f91e742ec70>, <pydrake.multibody.plant.MultibodyPlant_[float] object at 0x7f91e742ec70>"
     ]
    }
   ],
   "source": [
    "meshcat_vis.reset_recording()\n",
    "plant.get_actuation_input_port(plant).FixValue(plant_context, np.zeros((7,1)))\n",
    "# Start recording and simulate.\n",
    "meshcat_vis.start_recording()\n",
    "simulator.AdvanceTo(1.0)\n",
    "\n",
    "# Publish the recording to meshcat.\n",
    "meshcat_vis.publish_recording()\n",
    "\n",
    "# Render meshcat's current state.\n",
    "meshcat_vis.vis.render_static()"
   ]
  },
  {
   "cell_type": "markdown",
   "metadata": {},
   "source": [
    "# Visualizing Franka-Panda Arm"
   ]
  },
  {
   "cell_type": "code",
   "execution_count": 21,
   "metadata": {},
   "outputs": [],
   "source": [
    "def get_model_file():\n",
    "    return FindResourceOrThrow(\"drake/manipulation/models/franka_description/urdf/panda_arm_hand.urdf\")"
   ]
  },
  {
   "cell_type": "code",
   "execution_count": 27,
   "metadata": {
    "scrolled": true
   },
   "outputs": [
    {
     "name": "stdout",
     "output_type": "stream",
     "text": [
      "Connecting to meshcat-server at zmq_url=tcp://127.0.0.1:6000...\n",
      "You can open the visualizer by visiting the following URL:\n",
      "http://127.0.0.1:7000/static/\n",
      "Connected to meshcat-server.\n"
     ]
    },
    {
     "data": {
      "application/vnd.jupyter.widget-view+json": {
       "model_id": "4ec869842c524c3fb31a07c860ddf0e7"
      }
     },
     "metadata": {},
     "output_type": "display_data"
    },
    {
     "data": {
      "application/vnd.jupyter.widget-view+json": {
       "model_id": "64a86a236afc47cf9b24e1cdc6b01efd"
      }
     },
     "metadata": {},
     "output_type": "display_data"
    },
    {
     "data": {
      "application/vnd.jupyter.widget-view+json": {
       "model_id": "e91e025d61e8435c9b2662b40a87422a"
      }
     },
     "metadata": {},
     "output_type": "display_data"
    },
    {
     "data": {
      "application/vnd.jupyter.widget-view+json": {
       "model_id": "cc3ded5aa6214bacb2db186786452c94"
      }
     },
     "metadata": {},
     "output_type": "display_data"
    },
    {
     "data": {
      "application/vnd.jupyter.widget-view+json": {
       "model_id": "766a21df77b7408dbff3a8826ed36aa3"
      }
     },
     "metadata": {},
     "output_type": "display_data"
    },
    {
     "data": {
      "application/vnd.jupyter.widget-view+json": {
       "model_id": "b4ec50f8889e4b10bbd4cd64119e5a0a"
      }
     },
     "metadata": {},
     "output_type": "display_data"
    },
    {
     "data": {
      "application/vnd.jupyter.widget-view+json": {
       "model_id": "eddaf7ccb7a84d5fb4281a3b2479106f"
      }
     },
     "metadata": {},
     "output_type": "display_data"
    },
    {
     "data": {
      "application/vnd.jupyter.widget-view+json": {
       "model_id": "db379a06dcb74448a00135c07ca69090"
      }
     },
     "metadata": {},
     "output_type": "display_data"
    },
    {
     "data": {
      "application/vnd.jupyter.widget-view+json": {
       "model_id": "9d07ab8b3359435c92401f5499ef61e2"
      }
     },
     "metadata": {},
     "output_type": "display_data"
    }
   ],
   "source": [
    "builder = DiagramBuilder()\n",
    "\n",
    "plant, scene_graph = AddMultibodyPlantSceneGraph(builder, time_step=1e-4)\n",
    "Parser(plant, scene_graph).AddModelFromFile(get_model_file())\n",
    "plant.Finalize()\n",
    "\n",
    "meshcat = ConnectMeshcatVisualizer(builder, scene_graph, zmq_url=zmq_url)\n",
    "diagram = builder.Build()\n",
    "context = diagram.CreateDefaultContext()\n",
    "\n",
    "meshcat.load()\n",
    "MakeJointSlidersThatPublishOnCallback(plant, meshcat, context);"
   ]
  },
  {
   "cell_type": "markdown",
   "metadata": {},
   "source": [
    "# Simulating Passive Panda"
   ]
  },
  {
   "cell_type": "code",
   "execution_count": 29,
   "metadata": {},
   "outputs": [],
   "source": [
    "plant = MultibodyPlant(time_step=1e-4)\n",
    "Parser(plant).AddModelFromFile(\n",
    "        FindResourceOrThrow(\"drake/manipulation/models/franka_description/urdf/panda_arm_hand.urdf\"))\n",
    "plant.WeldFrames(plant.world_frame(), plant.GetFrameByName(\"panda_link0\"))\n",
    "plant.Finalize()"
   ]
  },
  {
   "cell_type": "code",
   "execution_count": 30,
   "metadata": {},
   "outputs": [
    {
     "name": "stdout",
     "output_type": "stream",
     "text": [
      "::_ Context\n",
      "------------\n",
      "Time: 0\n",
      "States:\n",
      "  1 discrete state groups with\n",
      "     18 states\n",
      "       0 0 0 0 0 0 0 0 0 0 0 0 0 0 0 0 0 0\n",
      "\n",
      "Parameters:\n",
      "  42 numeric parameter groups with\n",
      "     1 parameters\n",
      "       0\n",
      "     1 parameters\n",
      "       1\n",
      "     1 parameters\n",
      "       0\n",
      "     1 parameters\n",
      "       1\n",
      "     1 parameters\n",
      "       0\n",
      "     1 parameters\n",
      "       1\n",
      "     1 parameters\n",
      "       0\n",
      "     1 parameters\n",
      "       1\n",
      "     1 parameters\n",
      "       0\n",
      "     1 parameters\n",
      "       1\n",
      "     1 parameters\n",
      "       0\n",
      "     1 parameters\n",
      "       1\n",
      "     1 parameters\n",
      "       0\n",
      "     1 parameters\n",
      "       1\n",
      "     1 parameters\n",
      "       0\n",
      "     1 parameters\n",
      "       1\n",
      "     1 parameters\n",
      "       0\n",
      "     1 parameters\n",
      "       1\n",
      "     10 parameters\n",
      "       nan nan nan nan nan nan nan nan nan nan\n",
      "     10 parameters\n",
      "               2.92    -0.025566    -2.88e-05     0.057332   0.00596583   0.00767441   0.00415895 -6.08533e-06   0.00103422   5.3578e-06\n",
      "     10 parameters\n",
      "               2.74            0   -0.0324958   -0.0675818    0.0122078    0.0103752   0.00332127            0            0 -0.000489613\n",
      "     10 parameters\n",
      "              2.74           0    -0.06861   0.0322285   0.0124196  0.00330641    0.010602           0           0 0.000485489\n",
      "     10 parameters\n",
      "              2.38   0.0469893   0.0316374   -0.031704  0.00524715  0.00736905  0.00661952  -0.0025307 9.41707e-05 8.79222e-05\n",
      "     10 parameters\n",
      "               2.38   -0.0360446    0.0336853     0.031882   0.00551109    0.0057837   0.00674127   0.00267256  0.000135632 -8.33075e-05\n",
      "     10 parameters\n",
      "               2.74            0    0.0610427    -0.104176    0.0256633    0.0213911   0.00534714   2.3733e-07 -3.83683e-06   0.00352833\n",
      "     10 parameters\n",
      "               1.55    0.0510509     0.009108    0.0106343   0.00215305   0.00532883   0.00629066 -0.000747086 -0.000136918 -1.26817e-05\n",
      "     10 parameters\n",
      "               0.54    0.0109695    0.0107965    0.0650411   0.00599296   0.00599512   0.00156594 -0.000345082 -0.000639635 -0.000875147\n",
      "     10 parameters\n",
      "       0 0 0 0 0 0 0 0 0 0\n",
      "     10 parameters\n",
      "             0.73          0  0.0015244  0.0275912 0.00457949 0.00130927 0.00351435          0          0 -4.206e-05\n",
      "     10 parameters\n",
      "                0.1            0    0.0145644    0.0227941   0.00103291  0.000815445  0.000281634            0            0 -0.000331982\n",
      "     10 parameters\n",
      "                0.1            0    0.0145644    0.0227941   0.00103291  0.000815445  0.000281634  1.10591e-18            0 -0.000331982\n",
      "     12 parameters\n",
      "           1     0    -0     0     1     0     0     0     1     0     0 0.333\n",
      "     12 parameters\n",
      "                 1           0          -0          -0 4.89659e-12          -1           0           1 4.89659e-12           0           0           0\n",
      "     12 parameters\n",
      "                 1           0          -0           0 4.89659e-12           1           0          -1 4.89659e-12           0      -0.316           0\n",
      "     12 parameters\n",
      "                 1           0          -0           0 4.89659e-12           1           0          -1 4.89659e-12      0.0825           0           0\n",
      "     12 parameters\n",
      "                 1           0          -0          -0 4.89659e-12          -1           0           1 4.89659e-12     -0.0825       0.384           0\n",
      "     12 parameters\n",
      "                 1           0          -0           0 4.89659e-12           1           0          -1 4.89659e-12           0           0           0\n",
      "     12 parameters\n",
      "                 1           0          -0           0 4.89659e-12           1           0          -1 4.89659e-12       0.088           0           0\n",
      "     12 parameters\n",
      "           1     0    -0     0     1     0     0     0     1     0     0 0.107\n",
      "     12 parameters\n",
      "        0.707107 -0.707107        -0  0.707107  0.707107         0         0        -0         1         0         0         0\n",
      "     12 parameters\n",
      "            1      0     -0      0      1      0      0      0      1      0      0 0.0584\n",
      "     12 parameters\n",
      "            1      0     -0      0      1      0      0      0      1      0      0 0.0584\n",
      "\n"
     ]
    }
   ],
   "source": [
    "context = plant.CreateDefaultContext()\n",
    "print(context)"
   ]
  },
  {
   "cell_type": "code",
   "execution_count": 31,
   "metadata": {},
   "outputs": [
    {
     "name": "stdout",
     "output_type": "stream",
     "text": [
      "::_ Context\n",
      "------------\n",
      "Time: 0\n",
      "States:\n",
      "  1 discrete state groups with\n",
      "     18 states\n",
      "       -1.57   0.1     0  -1.2     0   1.6     0     0     0     0     0     0     0     0     0     0     0     0\n",
      "\n",
      "Parameters:\n",
      "  42 numeric parameter groups with\n",
      "     1 parameters\n",
      "       0\n",
      "     1 parameters\n",
      "       1\n",
      "     1 parameters\n",
      "       0\n",
      "     1 parameters\n",
      "       1\n",
      "     1 parameters\n",
      "       0\n",
      "     1 parameters\n",
      "       1\n",
      "     1 parameters\n",
      "       0\n",
      "     1 parameters\n",
      "       1\n",
      "     1 parameters\n",
      "       0\n",
      "     1 parameters\n",
      "       1\n",
      "     1 parameters\n",
      "       0\n",
      "     1 parameters\n",
      "       1\n",
      "     1 parameters\n",
      "       0\n",
      "     1 parameters\n",
      "       1\n",
      "     1 parameters\n",
      "       0\n",
      "     1 parameters\n",
      "       1\n",
      "     1 parameters\n",
      "       0\n",
      "     1 parameters\n",
      "       1\n",
      "     10 parameters\n",
      "       nan nan nan nan nan nan nan nan nan nan\n",
      "     10 parameters\n",
      "               2.92    -0.025566    -2.88e-05     0.057332   0.00596583   0.00767441   0.00415895 -6.08533e-06   0.00103422   5.3578e-06\n",
      "     10 parameters\n",
      "               2.74            0   -0.0324958   -0.0675818    0.0122078    0.0103752   0.00332127            0            0 -0.000489613\n",
      "     10 parameters\n",
      "              2.74           0    -0.06861   0.0322285   0.0124196  0.00330641    0.010602           0           0 0.000485489\n",
      "     10 parameters\n",
      "              2.38   0.0469893   0.0316374   -0.031704  0.00524715  0.00736905  0.00661952  -0.0025307 9.41707e-05 8.79222e-05\n",
      "     10 parameters\n",
      "               2.38   -0.0360446    0.0336853     0.031882   0.00551109    0.0057837   0.00674127   0.00267256  0.000135632 -8.33075e-05\n",
      "     10 parameters\n",
      "               2.74            0    0.0610427    -0.104176    0.0256633    0.0213911   0.00534714   2.3733e-07 -3.83683e-06   0.00352833\n",
      "     10 parameters\n",
      "               1.55    0.0510509     0.009108    0.0106343   0.00215305   0.00532883   0.00629066 -0.000747086 -0.000136918 -1.26817e-05\n",
      "     10 parameters\n",
      "               0.54    0.0109695    0.0107965    0.0650411   0.00599296   0.00599512   0.00156594 -0.000345082 -0.000639635 -0.000875147\n",
      "     10 parameters\n",
      "       0 0 0 0 0 0 0 0 0 0\n",
      "     10 parameters\n",
      "             0.73          0  0.0015244  0.0275912 0.00457949 0.00130927 0.00351435          0          0 -4.206e-05\n",
      "     10 parameters\n",
      "                0.1            0    0.0145644    0.0227941   0.00103291  0.000815445  0.000281634            0            0 -0.000331982\n",
      "     10 parameters\n",
      "                0.1            0    0.0145644    0.0227941   0.00103291  0.000815445  0.000281634  1.10591e-18            0 -0.000331982\n",
      "     12 parameters\n",
      "           1     0    -0     0     1     0     0     0     1     0     0 0.333\n",
      "     12 parameters\n",
      "                 1           0          -0          -0 4.89659e-12          -1           0           1 4.89659e-12           0           0           0\n",
      "     12 parameters\n",
      "                 1           0          -0           0 4.89659e-12           1           0          -1 4.89659e-12           0      -0.316           0\n",
      "     12 parameters\n",
      "                 1           0          -0           0 4.89659e-12           1           0          -1 4.89659e-12      0.0825           0           0\n",
      "     12 parameters\n",
      "                 1           0          -0          -0 4.89659e-12          -1           0           1 4.89659e-12     -0.0825       0.384           0\n",
      "     12 parameters\n",
      "                 1           0          -0           0 4.89659e-12           1           0          -1 4.89659e-12           0           0           0\n",
      "     12 parameters\n",
      "                 1           0          -0           0 4.89659e-12           1           0          -1 4.89659e-12       0.088           0           0\n",
      "     12 parameters\n",
      "           1     0    -0     0     1     0     0     0     1     0     0 0.107\n",
      "     12 parameters\n",
      "        0.707107 -0.707107        -0  0.707107  0.707107         0         0        -0         1         0         0         0\n",
      "     12 parameters\n",
      "            1      0     -0      0      1      0      0      0      1      0      0 0.0584\n",
      "     12 parameters\n",
      "            1      0     -0      0      1      0      0      0      1      0      0 0.0584\n",
      "\n"
     ]
    }
   ],
   "source": [
    "# Set all of the joint positions at once in a single vector.\n",
    "plant.SetPositions(context, [-1.57, 0.1, 0, 0, 0, 1.6, 0,0,0])\n",
    "# You can also set them by referencing particular joints.\n",
    "plant.GetJointByName(\"panda_joint4\").set_angle(context, -1.2)\n",
    "print(context)"
   ]
  },
  {
   "cell_type": "code",
   "execution_count": 32,
   "metadata": {},
   "outputs": [],
   "source": [
    "plant.get_actuation_input_port().FixValue(context, np.zeros(9));"
   ]
  },
  {
   "cell_type": "code",
   "execution_count": 33,
   "metadata": {},
   "outputs": [
    {
     "name": "stdout",
     "output_type": "stream",
     "text": [
      "::_ Context\n",
      "------------\n",
      "Time: 5\n",
      "States:\n",
      "  1 discrete state groups with\n",
      "     18 states\n",
      "          -1.98669     1.76369   0.0900726    -2.74125     1.24118     2.88319      2.1166   0.0252505   0.0239772    0.218832 0.000460519    -2.09645     -1.2177    -11.3494    -2.81646     6.42135  -0.0334578    0.105749\n",
      "\n",
      "Parameters:\n",
      "  42 numeric parameter groups with\n",
      "     1 parameters\n",
      "       0\n",
      "     1 parameters\n",
      "       1\n",
      "     1 parameters\n",
      "       0\n",
      "     1 parameters\n",
      "       1\n",
      "     1 parameters\n",
      "       0\n",
      "     1 parameters\n",
      "       1\n",
      "     1 parameters\n",
      "       0\n",
      "     1 parameters\n",
      "       1\n",
      "     1 parameters\n",
      "       0\n",
      "     1 parameters\n",
      "       1\n",
      "     1 parameters\n",
      "       0\n",
      "     1 parameters\n",
      "       1\n",
      "     1 parameters\n",
      "       0\n",
      "     1 parameters\n",
      "       1\n",
      "     1 parameters\n",
      "       0\n",
      "     1 parameters\n",
      "       1\n",
      "     1 parameters\n",
      "       0\n",
      "     1 parameters\n",
      "       1\n",
      "     10 parameters\n",
      "       nan nan nan nan nan nan nan nan nan nan\n",
      "     10 parameters\n",
      "               2.92    -0.025566    -2.88e-05     0.057332   0.00596583   0.00767441   0.00415895 -6.08533e-06   0.00103422   5.3578e-06\n",
      "     10 parameters\n",
      "               2.74            0   -0.0324958   -0.0675818    0.0122078    0.0103752   0.00332127            0            0 -0.000489613\n",
      "     10 parameters\n",
      "              2.74           0    -0.06861   0.0322285   0.0124196  0.00330641    0.010602           0           0 0.000485489\n",
      "     10 parameters\n",
      "              2.38   0.0469893   0.0316374   -0.031704  0.00524715  0.00736905  0.00661952  -0.0025307 9.41707e-05 8.79222e-05\n",
      "     10 parameters\n",
      "               2.38   -0.0360446    0.0336853     0.031882   0.00551109    0.0057837   0.00674127   0.00267256  0.000135632 -8.33075e-05\n",
      "     10 parameters\n",
      "               2.74            0    0.0610427    -0.104176    0.0256633    0.0213911   0.00534714   2.3733e-07 -3.83683e-06   0.00352833\n",
      "     10 parameters\n",
      "               1.55    0.0510509     0.009108    0.0106343   0.00215305   0.00532883   0.00629066 -0.000747086 -0.000136918 -1.26817e-05\n",
      "     10 parameters\n",
      "               0.54    0.0109695    0.0107965    0.0650411   0.00599296   0.00599512   0.00156594 -0.000345082 -0.000639635 -0.000875147\n",
      "     10 parameters\n",
      "       0 0 0 0 0 0 0 0 0 0\n",
      "     10 parameters\n",
      "             0.73          0  0.0015244  0.0275912 0.00457949 0.00130927 0.00351435          0          0 -4.206e-05\n",
      "     10 parameters\n",
      "                0.1            0    0.0145644    0.0227941   0.00103291  0.000815445  0.000281634            0            0 -0.000331982\n",
      "     10 parameters\n",
      "                0.1            0    0.0145644    0.0227941   0.00103291  0.000815445  0.000281634  1.10591e-18            0 -0.000331982\n",
      "     12 parameters\n",
      "           1     0    -0     0     1     0     0     0     1     0     0 0.333\n",
      "     12 parameters\n",
      "                 1           0          -0          -0 4.89659e-12          -1           0           1 4.89659e-12           0           0           0\n",
      "     12 parameters\n",
      "                 1           0          -0           0 4.89659e-12           1           0          -1 4.89659e-12           0      -0.316           0\n",
      "     12 parameters\n",
      "                 1           0          -0           0 4.89659e-12           1           0          -1 4.89659e-12      0.0825           0           0\n",
      "     12 parameters\n",
      "                 1           0          -0          -0 4.89659e-12          -1           0           1 4.89659e-12     -0.0825       0.384           0\n",
      "     12 parameters\n",
      "                 1           0          -0           0 4.89659e-12           1           0          -1 4.89659e-12           0           0           0\n",
      "     12 parameters\n",
      "                 1           0          -0           0 4.89659e-12           1           0          -1 4.89659e-12       0.088           0           0\n",
      "     12 parameters\n",
      "           1     0    -0     0     1     0     0     0     1     0     0 0.107\n",
      "     12 parameters\n",
      "        0.707107 -0.707107        -0  0.707107  0.707107         0         0        -0         1         0         0         0\n",
      "     12 parameters\n",
      "            1      0     -0      0      1      0      0      0      1      0      0 0.0584\n",
      "     12 parameters\n",
      "            1      0     -0      0      1      0      0      0      1      0      0 0.0584\n",
      "\n"
     ]
    }
   ],
   "source": [
    "simulator = Simulator(plant, context)\n",
    "simulator.AdvanceTo(5.0)\n",
    "print(context)"
   ]
  },
  {
   "cell_type": "markdown",
   "metadata": {},
   "source": [
    "# Visualize the Scene"
   ]
  },
  {
   "cell_type": "code",
   "execution_count": 34,
   "metadata": {},
   "outputs": [
    {
     "name": "stdout",
     "output_type": "stream",
     "text": [
      "Connecting to meshcat-server at zmq_url=tcp://127.0.0.1:6000...\n",
      "You can open the visualizer by visiting the following URL:\n",
      "http://127.0.0.1:7000/static/\n",
      "Connected to meshcat-server.\n"
     ]
    }
   ],
   "source": [
    "builder = DiagramBuilder()\n",
    "\n",
    "# Adds both MultibodyPlant and the SceneGraph, and wires them together.\n",
    "plant, scene_graph = AddMultibodyPlantSceneGraph(builder, time_step=1e-4)\n",
    "# Note that we parse into both the plant and the scene_graph here.\n",
    "Parser(plant, scene_graph).AddModelFromFile(\n",
    "        FindResourceOrThrow(\"drake/manipulation/models/franka_description/urdf/panda_arm_hand.urdf\"))\n",
    "plant.WeldFrames(plant.world_frame(), plant.GetFrameByName(\"panda_link0\"))\n",
    "plant.Finalize()\n",
    "\n",
    "# Adds the MeshcatVisualizer and wires it to the SceneGraph.\n",
    "meshcat = ConnectMeshcatVisualizer(builder, scene_graph, zmq_url=zmq_url)\n",
    "\n",
    "diagram = builder.Build()"
   ]
  },
  {
   "cell_type": "code",
   "execution_count": 36,
   "metadata": {},
   "outputs": [],
   "source": [
    "context = diagram.CreateDefaultContext()\n",
    "meshcat.load()\n",
    "diagram.Publish(context)"
   ]
  },
  {
   "cell_type": "code",
   "execution_count": 11,
   "metadata": {},
   "outputs": [
    {
     "name": "stdout",
     "output_type": "stream",
     "text": [
      "::_ Context (of a Diagram)\n",
      "---------------------------\n",
      "18 total discrete states in 1 groups\n",
      "280 total numeric parameters in 42 groups\n",
      "1 total abstract parameters\n",
      "\n",
      "::_::plant Context\n",
      "-------------------\n",
      "Time: 0\n",
      "States:\n",
      "  1 discrete state groups with\n",
      "     18 states\n",
      "       0 0 0 0 0 0 0 0 0 0 0 0 0 0 0 0 0 0\n",
      "\n",
      "Parameters:\n",
      "  42 numeric parameter groups with\n",
      "     1 parameters\n",
      "       0\n",
      "     1 parameters\n",
      "       1\n",
      "     1 parameters\n",
      "       0\n",
      "     1 parameters\n",
      "       1\n",
      "     1 parameters\n",
      "       0\n",
      "     1 parameters\n",
      "       1\n",
      "     1 parameters\n",
      "       0\n",
      "     1 parameters\n",
      "       1\n",
      "     1 parameters\n",
      "       0\n",
      "     1 parameters\n",
      "       1\n",
      "     1 parameters\n",
      "       0\n",
      "     1 parameters\n",
      "       1\n",
      "     1 parameters\n",
      "       0\n",
      "     1 parameters\n",
      "       1\n",
      "     1 parameters\n",
      "       0\n",
      "     1 parameters\n",
      "       1\n",
      "     1 parameters\n",
      "       0\n",
      "     1 parameters\n",
      "       1\n",
      "     10 parameters\n",
      "       nan nan nan nan nan nan nan nan nan nan\n",
      "     10 parameters\n",
      "               2.92    -0.025566    -2.88e-05     0.057332   0.00596583   0.00767441   0.00415895 -6.08533e-06   0.00103422   5.3578e-06\n",
      "     10 parameters\n",
      "               2.74            0   -0.0324958   -0.0675818    0.0122078    0.0103752   0.00332127            0            0 -0.000489613\n",
      "     10 parameters\n",
      "              2.74           0    -0.06861   0.0322285   0.0124196  0.00330641    0.010602           0           0 0.000485489\n",
      "     10 parameters\n",
      "              2.38   0.0469893   0.0316374   -0.031704  0.00524715  0.00736905  0.00661952  -0.0025307 9.41707e-05 8.79222e-05\n",
      "     10 parameters\n",
      "               2.38   -0.0360446    0.0336853     0.031882   0.00551109    0.0057837   0.00674127   0.00267256  0.000135632 -8.33075e-05\n",
      "     10 parameters\n",
      "               2.74            0    0.0610427    -0.104176    0.0256633    0.0213911   0.00534714   2.3733e-07 -3.83683e-06   0.00352833\n",
      "     10 parameters\n",
      "               1.55    0.0510509     0.009108    0.0106343   0.00215305   0.00532883   0.00629066 -0.000747086 -0.000136918 -1.26817e-05\n",
      "     10 parameters\n",
      "               0.54    0.0109695    0.0107965    0.0650411   0.00599296   0.00599512   0.00156594 -0.000345082 -0.000639635 -0.000875147\n",
      "     10 parameters\n",
      "       0 0 0 0 0 0 0 0 0 0\n",
      "     10 parameters\n",
      "             0.73          0  0.0015244  0.0275912 0.00457949 0.00130927 0.00351435          0          0 -4.206e-05\n",
      "     10 parameters\n",
      "                0.1            0    0.0145644    0.0227941   0.00103291  0.000815445  0.000281634            0            0 -0.000331982\n",
      "     10 parameters\n",
      "                0.1            0    0.0145644    0.0227941   0.00103291  0.000815445  0.000281634  1.10591e-18            0 -0.000331982\n",
      "     12 parameters\n",
      "           1     0    -0     0     1     0     0     0     1     0     0 0.333\n",
      "     12 parameters\n",
      "                 1           0          -0          -0 4.89659e-12          -1           0           1 4.89659e-12           0           0           0\n",
      "     12 parameters\n",
      "                 1           0          -0           0 4.89659e-12           1           0          -1 4.89659e-12           0      -0.316           0\n",
      "     12 parameters\n",
      "                 1           0          -0           0 4.89659e-12           1           0          -1 4.89659e-12      0.0825           0           0\n",
      "     12 parameters\n",
      "                 1           0          -0          -0 4.89659e-12          -1           0           1 4.89659e-12     -0.0825       0.384           0\n",
      "     12 parameters\n",
      "                 1           0          -0           0 4.89659e-12           1           0          -1 4.89659e-12           0           0           0\n",
      "     12 parameters\n",
      "                 1           0          -0           0 4.89659e-12           1           0          -1 4.89659e-12       0.088           0           0\n",
      "     12 parameters\n",
      "           1     0    -0     0     1     0     0     0     1     0     0 0.107\n",
      "     12 parameters\n",
      "        0.707107 -0.707107        -0  0.707107  0.707107         0         0        -0         1         0         0         0\n",
      "     12 parameters\n",
      "            1      0     -0      0      1      0      0      0      1      0      0 0.0584\n",
      "     12 parameters\n",
      "            1      0     -0      0      1      0      0      0      1      0      0 0.0584\n",
      "\n",
      "::_::scene_graph Context\n",
      "-------------------------\n",
      "Time: 0\n",
      "Parameters:\n",
      "  1 abstract parameters\n",
      "\n"
     ]
    }
   ],
   "source": [
    "print(context)"
   ]
  },
  {
   "cell_type": "code",
   "execution_count": 12,
   "metadata": {},
   "outputs": [
    {
     "data": {
      "image/svg+xml": [
       "<svg height=\"495pt\" viewBox=\"0.00 0.00 1148.00 495.00\" width=\"1148pt\" xmlns=\"http://www.w3.org/2000/svg\" xmlns:xlink=\"http://www.w3.org/1999/xlink\">\n",
       "<g class=\"graph\" id=\"graph0\" transform=\"scale(1 1) rotate(0) translate(4 491)\">\n",
       "<title>_72145824</title>\n",
       "<polygon fill=\"#ffffff\" points=\"-4,4 -4,-491 1144,-491 1144,4 -4,4\" stroke=\"transparent\"/>\n",
       "<g class=\"cluster\" id=\"clust1\">\n",
       "<title>cluster72145824diagram</title>\n",
       "<polygon fill=\"none\" points=\"8,-8 8,-479 1132,-479 1132,-8 8,-8\" stroke=\"#000000\"/>\n",
       "<text fill=\"#000000\" font-family=\"Times,serif\" font-size=\"14.00\" text-anchor=\"middle\" x=\"570\" y=\"-463.8\">72145824</text>\n",
       "</g>\n",
       "<g class=\"cluster\" id=\"clust4\">\n",
       "<title>cluster72145824subsystems</title>\n",
       "<polygon fill=\"none\" points=\"16,-16 16,-448 1124,-448 1124,-16 16,-16\" stroke=\"#ffffff\"/>\n",
       "</g>\n",
       "<!-- 72100688 -->\n",
       "<g class=\"node\" id=\"node1\">\n",
       "<title>72100688</title>\n",
       "<polygon fill=\"none\" points=\"24,-25 24,-439 655,-439 655,-25 24,-25\" stroke=\"#000000\"/>\n",
       "<text fill=\"#000000\" font-family=\"Times,serif\" font-size=\"14.00\" text-anchor=\"middle\" x=\"339.5\" y=\"-423.8\">plant</text>\n",
       "<polyline fill=\"none\" points=\"24,-416 655,-416 \" stroke=\"#000000\"/>\n",
       "<text fill=\"#000000\" font-family=\"Times,serif\" font-size=\"14.00\" text-anchor=\"middle\" x=\"149.5\" y=\"-379.8\">geometry_query</text>\n",
       "<polyline fill=\"none\" points=\"24,-351 275,-351 \" stroke=\"#000000\"/>\n",
       "<text fill=\"#000000\" font-family=\"Times,serif\" font-size=\"14.00\" text-anchor=\"middle\" x=\"149.5\" y=\"-314.8\">WorldModelInstance_actuation</text>\n",
       "<polyline fill=\"none\" points=\"24,-286 275,-286 \" stroke=\"#000000\"/>\n",
       "<text fill=\"#000000\" font-family=\"Times,serif\" font-size=\"14.00\" text-anchor=\"middle\" x=\"149.5\" y=\"-249.8\">DefaultModelInstance_actuation</text>\n",
       "<polyline fill=\"none\" points=\"24,-221 275,-221 \" stroke=\"#000000\"/>\n",
       "<text fill=\"#000000\" font-family=\"Times,serif\" font-size=\"14.00\" text-anchor=\"middle\" x=\"149.5\" y=\"-184.8\">panda_actuation</text>\n",
       "<polyline fill=\"none\" points=\"24,-156 275,-156 \" stroke=\"#000000\"/>\n",
       "<text fill=\"#000000\" font-family=\"Times,serif\" font-size=\"14.00\" text-anchor=\"middle\" x=\"149.5\" y=\"-119.8\">applied_generalized_force</text>\n",
       "<polyline fill=\"none\" points=\"24,-91 275,-91 \" stroke=\"#000000\"/>\n",
       "<text fill=\"#000000\" font-family=\"Times,serif\" font-size=\"14.00\" text-anchor=\"middle\" x=\"149.5\" y=\"-54.3\">applied_spatial_force</text>\n",
       "<polyline fill=\"none\" points=\"275,-25 275,-416 \" stroke=\"#000000\"/>\n",
       "<text fill=\"#000000\" font-family=\"Times,serif\" font-size=\"14.00\" text-anchor=\"middle\" x=\"465\" y=\"-400.8\">geometry_pose</text>\n",
       "<polyline fill=\"none\" points=\"275,-393 655,-393 \" stroke=\"#000000\"/>\n",
       "<text fill=\"#000000\" font-family=\"Times,serif\" font-size=\"14.00\" text-anchor=\"middle\" x=\"465\" y=\"-377.8\">continuous_state</text>\n",
       "<polyline fill=\"none\" points=\"275,-370 655,-370 \" stroke=\"#000000\"/>\n",
       "<text fill=\"#000000\" font-family=\"Times,serif\" font-size=\"14.00\" text-anchor=\"middle\" x=\"465\" y=\"-354.8\">body_poses</text>\n",
       "<polyline fill=\"none\" points=\"275,-347 655,-347 \" stroke=\"#000000\"/>\n",
       "<text fill=\"#000000\" font-family=\"Times,serif\" font-size=\"14.00\" text-anchor=\"middle\" x=\"465\" y=\"-331.8\">spatial_velocities</text>\n",
       "<polyline fill=\"none\" points=\"275,-324 655,-324 \" stroke=\"#000000\"/>\n",
       "<text fill=\"#000000\" font-family=\"Times,serif\" font-size=\"14.00\" text-anchor=\"middle\" x=\"465\" y=\"-308.8\">spatial_accelerations</text>\n",
       "<polyline fill=\"none\" points=\"275,-301 655,-301 \" stroke=\"#000000\"/>\n",
       "<text fill=\"#000000\" font-family=\"Times,serif\" font-size=\"14.00\" text-anchor=\"middle\" x=\"465\" y=\"-285.8\">generalized_acceleration</text>\n",
       "<polyline fill=\"none\" points=\"275,-278 655,-278 \" stroke=\"#000000\"/>\n",
       "<text fill=\"#000000\" font-family=\"Times,serif\" font-size=\"14.00\" text-anchor=\"middle\" x=\"465\" y=\"-262.8\">WorldModelInstance_continuous_state</text>\n",
       "<polyline fill=\"none\" points=\"275,-255 655,-255 \" stroke=\"#000000\"/>\n",
       "<text fill=\"#000000\" font-family=\"Times,serif\" font-size=\"14.00\" text-anchor=\"middle\" x=\"465\" y=\"-239.8\">WorldModelInstance_generalized_acceleration</text>\n",
       "<polyline fill=\"none\" points=\"275,-232 655,-232 \" stroke=\"#000000\"/>\n",
       "<text fill=\"#000000\" font-family=\"Times,serif\" font-size=\"14.00\" text-anchor=\"middle\" x=\"465\" y=\"-216.8\">DefaultModelInstance_continuous_state</text>\n",
       "<polyline fill=\"none\" points=\"275,-209 655,-209 \" stroke=\"#000000\"/>\n",
       "<text fill=\"#000000\" font-family=\"Times,serif\" font-size=\"14.00\" text-anchor=\"middle\" x=\"465\" y=\"-193.8\">DefaultModelInstance_generalized_acceleration</text>\n",
       "<polyline fill=\"none\" points=\"275,-186 655,-186 \" stroke=\"#000000\"/>\n",
       "<text fill=\"#000000\" font-family=\"Times,serif\" font-size=\"14.00\" text-anchor=\"middle\" x=\"465\" y=\"-170.8\">panda_continuous_state</text>\n",
       "<polyline fill=\"none\" points=\"275,-163 655,-163 \" stroke=\"#000000\"/>\n",
       "<text fill=\"#000000\" font-family=\"Times,serif\" font-size=\"14.00\" text-anchor=\"middle\" x=\"465\" y=\"-147.8\">panda_generalized_acceleration</text>\n",
       "<polyline fill=\"none\" points=\"275,-140 655,-140 \" stroke=\"#000000\"/>\n",
       "<text fill=\"#000000\" font-family=\"Times,serif\" font-size=\"14.00\" text-anchor=\"middle\" x=\"465\" y=\"-124.8\">WorldModelInstance_generalized_contact_forces</text>\n",
       "<polyline fill=\"none\" points=\"275,-117 655,-117 \" stroke=\"#000000\"/>\n",
       "<text fill=\"#000000\" font-family=\"Times,serif\" font-size=\"14.00\" text-anchor=\"middle\" x=\"465\" y=\"-101.8\">DefaultModelInstance_generalized_contact_forces</text>\n",
       "<polyline fill=\"none\" points=\"275,-94 655,-94 \" stroke=\"#000000\"/>\n",
       "<text fill=\"#000000\" font-family=\"Times,serif\" font-size=\"14.00\" text-anchor=\"middle\" x=\"465\" y=\"-78.8\">panda_generalized_contact_forces</text>\n",
       "<polyline fill=\"none\" points=\"275,-71 655,-71 \" stroke=\"#000000\"/>\n",
       "<text fill=\"#000000\" font-family=\"Times,serif\" font-size=\"14.00\" text-anchor=\"middle\" x=\"465\" y=\"-55.8\">reaction_forces</text>\n",
       "<polyline fill=\"none\" points=\"275,-48 655,-48 \" stroke=\"#000000\"/>\n",
       "<text fill=\"#000000\" font-family=\"Times,serif\" font-size=\"14.00\" text-anchor=\"middle\" x=\"465\" y=\"-32.8\">contact_results</text>\n",
       "</g>\n",
       "<!-- 72107456 -->\n",
       "<g class=\"node\" id=\"node2\">\n",
       "<title>72107456</title>\n",
       "<polygon fill=\"none\" points=\"691,-370.5 691,-439.5 925,-439.5 925,-370.5 691,-370.5\" stroke=\"#000000\"/>\n",
       "<text fill=\"#000000\" font-family=\"Times,serif\" font-size=\"14.00\" text-anchor=\"middle\" x=\"808\" y=\"-424.3\">scene_graph</text>\n",
       "<polyline fill=\"none\" points=\"691,-416.5 925,-416.5 \" stroke=\"#000000\"/>\n",
       "<text fill=\"#000000\" font-family=\"Times,serif\" font-size=\"14.00\" text-anchor=\"middle\" x=\"738\" y=\"-389.8\">plant_pose</text>\n",
       "<polyline fill=\"none\" points=\"785,-370.5 785,-416.5 \" stroke=\"#000000\"/>\n",
       "<text fill=\"#000000\" font-family=\"Times,serif\" font-size=\"14.00\" text-anchor=\"middle\" x=\"855\" y=\"-401.3\">lcm_visualization</text>\n",
       "<polyline fill=\"none\" points=\"785,-393.5 925,-393.5 \" stroke=\"#000000\"/>\n",
       "<text fill=\"#000000\" font-family=\"Times,serif\" font-size=\"14.00\" text-anchor=\"middle\" x=\"855\" y=\"-378.3\">query</text>\n",
       "</g>\n",
       "<!-- 72100688&#45;&gt;72107456 -->\n",
       "<g class=\"edge\" id=\"edge3\">\n",
       "<title>72100688:y0-&gt;72107456:u0</title>\n",
       "<path d=\"M655,-405C667.7809,-405 672.1793,-398.1086 680.8999,-394.7706\" fill=\"none\" stroke=\"#000000\"/>\n",
       "<polygon fill=\"#000000\" points=\"681.7546,-398.1743 691,-393 680.5458,-391.2794 681.7546,-398.1743\" stroke=\"#000000\"/>\n",
       "</g>\n",
       "<!-- 72107456&#45;&gt;72100688 -->\n",
       "<g class=\"edge\" id=\"edge2\">\n",
       "<title>72107456:y1-&gt;72100688:u0</title>\n",
       "<path d=\"M855,-370C855,-297.1111 753.2751,-332.1239 691,-370 661.2787,-388.0767 684.7213,-421.4233 655,-439.5 655,-439.5 114.901,-392.0329 33.6751,-384.8943\" fill=\"none\" stroke=\"#000000\"/>\n",
       "<polygon fill=\"#000000\" points=\"33.7681,-381.389 23.5,-384 33.1552,-388.3621 33.7681,-381.389\" stroke=\"#000000\"/>\n",
       "</g>\n",
       "<!-- 72099984 -->\n",
       "<g class=\"node\" id=\"node3\">\n",
       "<title>72099984</title>\n",
       "<polygon fill=\"none\" points=\"961,-371 961,-417 1116,-417 1116,-371 961,-371\" stroke=\"#000000\"/>\n",
       "<text fill=\"#000000\" font-family=\"Times,serif\" font-size=\"14.00\" text-anchor=\"middle\" x=\"1038.5\" y=\"-401.8\">meshcat_visualizer</text>\n",
       "<polyline fill=\"none\" points=\"961,-394 1116,-394 \" stroke=\"#000000\"/>\n",
       "<text fill=\"#000000\" font-family=\"Times,serif\" font-size=\"14.00\" text-anchor=\"middle\" x=\"1028\" y=\"-378.8\">geometry_query</text>\n",
       "<polyline fill=\"none\" points=\"1095,-371 1095,-394 \" stroke=\"#000000\"/>\n",
       "<text fill=\"#000000\" font-family=\"Times,serif\" font-size=\"14.00\" text-anchor=\"middle\" x=\"1105.5\" y=\"-378.8\"> </text>\n",
       "</g>\n",
       "<!-- 72107456&#45;&gt;72099984 -->\n",
       "<g class=\"edge\" id=\"edge1\">\n",
       "<title>72107456:y1-&gt;72099984:u0</title>\n",
       "<path d=\"M925,-382C937,-382 942.25,-382 950.875,-382\" fill=\"none\" stroke=\"#000000\"/>\n",
       "<polygon fill=\"#000000\" points=\"951,-385.5001 961,-382 951,-378.5001 951,-385.5001\" stroke=\"#000000\"/>\n",
       "</g>\n",
       "</g>\n",
       "</svg>"
      ],
      "text/plain": [
       "<IPython.core.display.SVG object>"
      ]
     },
     "execution_count": 12,
     "metadata": {},
     "output_type": "execute_result"
    }
   ],
   "source": [
    "SVG(pydot.graph_from_dot_data(diagram.GetGraphvizString())[0].create_svg())"
   ]
  },
  {
   "cell_type": "code",
   "execution_count": 37,
   "metadata": {},
   "outputs": [
    {
     "name": "stdout",
     "output_type": "stream",
     "text": [
      "::_ Context (of a Diagram)\n",
      "---------------------------\n",
      "18 total discrete states in 1 groups\n",
      "280 total numeric parameters in 42 groups\n",
      "1 total abstract parameters\n",
      "\n",
      "::_::plant Context\n",
      "-------------------\n",
      "Time: 0\n",
      "States:\n",
      "  1 discrete state groups with\n",
      "     18 states\n",
      "       -1.57   0.1     0  -1.2     0   1.6     0     0     0     0     0     0     0     0     0     0     0     0\n",
      "\n",
      "Parameters:\n",
      "  42 numeric parameter groups with\n",
      "     1 parameters\n",
      "       0\n",
      "     1 parameters\n",
      "       1\n",
      "     1 parameters\n",
      "       0\n",
      "     1 parameters\n",
      "       1\n",
      "     1 parameters\n",
      "       0\n",
      "     1 parameters\n",
      "       1\n",
      "     1 parameters\n",
      "       0\n",
      "     1 parameters\n",
      "       1\n",
      "     1 parameters\n",
      "       0\n",
      "     1 parameters\n",
      "       1\n",
      "     1 parameters\n",
      "       0\n",
      "     1 parameters\n",
      "       1\n",
      "     1 parameters\n",
      "       0\n",
      "     1 parameters\n",
      "       1\n",
      "     1 parameters\n",
      "       0\n",
      "     1 parameters\n",
      "       1\n",
      "     1 parameters\n",
      "       0\n",
      "     1 parameters\n",
      "       1\n",
      "     10 parameters\n",
      "       nan nan nan nan nan nan nan nan nan nan\n",
      "     10 parameters\n",
      "               2.92    -0.025566    -2.88e-05     0.057332   0.00596583   0.00767441   0.00415895 -6.08533e-06   0.00103422   5.3578e-06\n",
      "     10 parameters\n",
      "               2.74            0   -0.0324958   -0.0675818    0.0122078    0.0103752   0.00332127            0            0 -0.000489613\n",
      "     10 parameters\n",
      "              2.74           0    -0.06861   0.0322285   0.0124196  0.00330641    0.010602           0           0 0.000485489\n",
      "     10 parameters\n",
      "              2.38   0.0469893   0.0316374   -0.031704  0.00524715  0.00736905  0.00661952  -0.0025307 9.41707e-05 8.79222e-05\n",
      "     10 parameters\n",
      "               2.38   -0.0360446    0.0336853     0.031882   0.00551109    0.0057837   0.00674127   0.00267256  0.000135632 -8.33075e-05\n",
      "     10 parameters\n",
      "               2.74            0    0.0610427    -0.104176    0.0256633    0.0213911   0.00534714   2.3733e-07 -3.83683e-06   0.00352833\n",
      "     10 parameters\n",
      "               1.55    0.0510509     0.009108    0.0106343   0.00215305   0.00532883   0.00629066 -0.000747086 -0.000136918 -1.26817e-05\n",
      "     10 parameters\n",
      "               0.54    0.0109695    0.0107965    0.0650411   0.00599296   0.00599512   0.00156594 -0.000345082 -0.000639635 -0.000875147\n",
      "     10 parameters\n",
      "       0 0 0 0 0 0 0 0 0 0\n",
      "     10 parameters\n",
      "             0.73          0  0.0015244  0.0275912 0.00457949 0.00130927 0.00351435          0          0 -4.206e-05\n",
      "     10 parameters\n",
      "                0.1            0    0.0145644    0.0227941   0.00103291  0.000815445  0.000281634            0            0 -0.000331982\n",
      "     10 parameters\n",
      "                0.1            0    0.0145644    0.0227941   0.00103291  0.000815445  0.000281634  1.10591e-18            0 -0.000331982\n",
      "     12 parameters\n",
      "           1     0    -0     0     1     0     0     0     1     0     0 0.333\n",
      "     12 parameters\n",
      "                 1           0          -0          -0 4.89659e-12          -1           0           1 4.89659e-12           0           0           0\n",
      "     12 parameters\n",
      "                 1           0          -0           0 4.89659e-12           1           0          -1 4.89659e-12           0      -0.316           0\n",
      "     12 parameters\n",
      "                 1           0          -0           0 4.89659e-12           1           0          -1 4.89659e-12      0.0825           0           0\n",
      "     12 parameters\n",
      "                 1           0          -0          -0 4.89659e-12          -1           0           1 4.89659e-12     -0.0825       0.384           0\n",
      "     12 parameters\n",
      "                 1           0          -0           0 4.89659e-12           1           0          -1 4.89659e-12           0           0           0\n",
      "     12 parameters\n",
      "                 1           0          -0           0 4.89659e-12           1           0          -1 4.89659e-12       0.088           0           0\n",
      "     12 parameters\n",
      "           1     0    -0     0     1     0     0     0     1     0     0 0.107\n",
      "     12 parameters\n",
      "        0.707107 -0.707107        -0  0.707107  0.707107         0         0        -0         1         0         0         0\n",
      "     12 parameters\n",
      "            1      0     -0      0      1      0      0      0      1      0      0 0.0584\n",
      "     12 parameters\n",
      "            1      0     -0      0      1      0      0      0      1      0      0 0.0584\n",
      "\n",
      "::_::scene_graph Context\n",
      "-------------------------\n",
      "Time: 0\n",
      "Parameters:\n",
      "  1 abstract parameters\n",
      "\n"
     ]
    }
   ],
   "source": [
    "plant_context = plant.GetMyMutableContextFromRoot(context)\n",
    "plant.SetPositions(plant_context, [-1.57, 0.1, 0, -1.2, 0, 1.6, 0,0,0])\n",
    "plant.get_actuation_input_port().FixValue(plant_context, np.zeros(9))\n",
    "print(context)"
   ]
  },
  {
   "cell_type": "code",
   "execution_count": 14,
   "metadata": {},
   "outputs": [
    {
     "data": {
      "text/plain": [
       "<pydrake.systems.analysis.SimulatorStatus at 0x7f6398281470>"
      ]
     },
     "execution_count": 14,
     "metadata": {},
     "output_type": "execute_result"
    }
   ],
   "source": [
    "simulator = Simulator(diagram, context)\n",
    "simulator.set_target_realtime_rate(1.0)\n",
    "simulator.AdvanceTo(5.0)"
   ]
  },
  {
   "cell_type": "code",
   "execution_count": 15,
   "metadata": {
    "scrolled": true
   },
   "outputs": [
    {
     "name": "stdout",
     "output_type": "stream",
     "text": [
      "Connecting to meshcat-server at zmq_url=tcp://127.0.0.1:6000...\n",
      "You can open the visualizer by visiting the following URL:\n",
      "http://127.0.0.1:7000/static/\n",
      "Connected to meshcat-server.\n"
     ]
    }
   ],
   "source": [
    "builder = DiagramBuilder()\n",
    "\n",
    "# Adds both MultibodyPlant and the SceneGraph, and wires them together.\n",
    "plant, scene_graph = AddMultibodyPlantSceneGraph(builder, time_step=1e-4)\n",
    "# Note that we parse into both the plant and the scene_graph here.\n",
    "Parser(plant, scene_graph).AddModelFromFile(\n",
    "        FindResourceOrThrow(\"drake/manipulation/models/franka_description/urdf/panda_arm_hand.urdf\"))\n",
    "plant.WeldFrames(plant.world_frame(), plant.GetFrameByName(\"panda_link0\"))\n",
    "plant.Finalize()\n",
    "\n",
    "# Adds the MeshcatVisualizer and wires it to the SceneGraph.\n",
    "meshcat = ConnectMeshcatVisualizer(builder, scene_graph, zmq_url=zmq_url, delete_prefix_on_load=False)\n",
    "\n",
    "diagram = builder.Build()\n",
    "context = diagram.CreateDefaultContext()\n",
    "plant_context = plant.GetMyMutableContextFromRoot(context)\n",
    "plant.SetPositions(plant_context, [-1.57, 0.1, 0, -1.2, 0, 1.6, 0,0,0])\n",
    "plant.get_actuation_input_port().FixValue(plant_context, np.zeros(9))\n",
    "\n",
    "simulator = Simulator(diagram, context)\n",
    "simulator.set_target_realtime_rate(1.0)\n",
    "\n",
    "meshcat.start_recording()\n",
    "simulator.AdvanceTo(5.0)\n",
    "meshcat.stop_recording()\n",
    "meshcat.publish_recording()"
   ]
  }
 ],
 "metadata": {
  "kernelspec": {
   "display_name": "drake_env",
   "language": "python",
   "name": "drake_env"
  },
  "language_info": {
   "codemirror_mode": {
    "name": "ipython",
    "version": 3
   },
   "file_extension": ".py",
   "mimetype": "text/x-python",
   "name": "python",
   "nbconvert_exporter": "python",
   "pygments_lexer": "ipython3",
   "version": "3.6.9"
  }
 },
 "nbformat": 4,
 "nbformat_minor": 2
}
