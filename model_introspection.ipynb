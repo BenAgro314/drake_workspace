{
 "cells": [
  {
   "cell_type": "code",
   "execution_count": 1,
   "metadata": {},
   "outputs": [],
   "source": [
    "from PandaStation import (\n",
    "    PandaStation, FindResource, AddPackagePaths, AddRgbdSensors, draw_points, draw_open3d_point_cloud, \n",
    "    create_open3d_point_cloud)\n",
    "\n",
    "\n",
    "\n",
    "# Start a single meshcat server instance to use for the remainder of this notebook.\n",
    "from meshcat.servers.zmqserver import start_zmq_server_as_subprocess\n",
    "proc, zmq_url, web_url = start_zmq_server_as_subprocess(server_args=[])\n",
    "\n",
    "# Let's do all of our imports here, too.\n",
    "import numpy as np\n",
    "import ipywidgets\n",
    "import pydot\n",
    "import pydrake.all\n",
    "import os\n",
    "from IPython.display import display, SVG\n",
    "import open3d as o3d\n",
    "import meshcat\n",
    "import meshcat.geometry as g\n",
    "import meshcat.transformations as tf\n",
    "\n",
    "\n",
    "import pydrake.all\n",
    "from pydrake.geometry import Cylinder, Box\n",
    "from pydrake.all import (\n",
    "    RigidTransform, RotationMatrix, AngleAxis, RollPitchYaw, InverseKinematics, MultibodyPlant, Parser,\n",
    "    FindResourceOrThrow, Solve, PiecewisePolynomial, TrajectorySource, SceneGraph, DiagramBuilder,\n",
    "    AddMultibodyPlantSceneGraph, LinearBushingRollPitchYaw, MathematicalProgram, AutoDiffXd, GenerateHtml, Role,\n",
    "    MakeRenderEngineVtk, DepthRenderCamera, RenderCameraCore, CameraInfo, ClippingRange,  DepthImageToPointCloud,\n",
    "    BaseField, RenderEngineVtkParams, ConnectMeshcatVisualizer, DepthRange, RgbdSensor, MeshcatPointCloudVisualizer,\n",
    "    LoadModelDirectives, ProcessModelDirectives\n",
    "    )\n",
    "from PandaInverseKinematics import PandaInverseKinematics, PandaIKTraj, Waypoint, Trajectory\n",
    "from RRT import PandaRRTPlanner, PandaRRTompl\n",
    "from collections import OrderedDict\n",
    "\n",
    "import matplotlib.pyplot as plt"
   ]
  },
  {
   "cell_type": "code",
   "execution_count": 3,
   "metadata": {},
   "outputs": [
    {
     "name": "stdout",
     "output_type": "stream",
     "text": [
      "Connecting to meshcat-server at zmq_url=tcp://127.0.0.1:6016...\n",
      "You can open the visualizer by visiting the following URL:\n",
      "http://127.0.0.1:7016/static/\n",
      "Connected to meshcat-server.\n",
      "[]\n"
     ]
    }
   ],
   "source": [
    "builder = DiagramBuilder()\n",
    "\n",
    "station = builder.AddSystem(PandaStation())\n",
    "station.SetupBinStation()\n",
    "\n",
    "\n",
    "station.Finalize()\n",
    "\n",
    "\n",
    "scene_graph = station.get_scene_graph()\n",
    "\n",
    "meshcat = pydrake.systems.meshcat_visualizer.ConnectMeshcatVisualizer(builder,\n",
    "          scene_graph,\n",
    "          output_port=station.GetOutputPort(\"query_object\"),\n",
    "          delete_prefix_on_load=True,                                      \n",
    "          zmq_url=zmq_url, role = Role.kProximity)\n",
    "\n",
    "diagram = builder.Build()\n",
    "context = diagram.CreateDefaultContext()\n",
    "\n",
    "\n",
    "\n",
    "meshcat.load()\n",
    "diagram.Publish(context)\n",
    "\n",
    "scene_graph_context = scene_graph.GetMyContextFromRoot(context)\n",
    "\n",
    "query_object = scene_graph.get_query_output_port().Eval(scene_graph_context)\n",
    "collision_pairs = query_object.ComputePointPairPenetration()\n",
    "print(collision_pairs)"
   ]
  }
 ],
 "metadata": {
  "kernelspec": {
   "display_name": "drake_env",
   "language": "python",
   "name": "drake_env"
  },
  "language_info": {
   "codemirror_mode": {
    "name": "ipython",
    "version": 3
   },
   "file_extension": ".py",
   "mimetype": "text/x-python",
   "name": "python",
   "nbconvert_exporter": "python",
   "pygments_lexer": "ipython3",
   "version": "3.6.9"
  }
 },
 "nbformat": 4,
 "nbformat_minor": 2
}
