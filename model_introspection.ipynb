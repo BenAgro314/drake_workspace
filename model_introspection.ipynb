{
 "cells": [
  {
   "cell_type": "code",
   "execution_count": 5,
   "metadata": {},
   "outputs": [],
   "source": [
    "from PandaStation import *\n",
    "from PandaGrasping import *\n",
    "\n",
    "# Start a single meshcat server instance to use for the remainder of this notebook.\n",
    "from meshcat.servers.zmqserver import start_zmq_server_as_subprocess\n",
    "proc, zmq_url, web_url = start_zmq_server_as_subprocess(server_args=[])\n",
    "\n",
    "# Let's do all of our imports here, too.\n",
    "import numpy as np\n",
    "import ipywidgets\n",
    "import pydot\n",
    "import pydrake.all\n",
    "import os\n",
    "from IPython.display import display, SVG\n",
    "import subprocess\n",
    "\n",
    "\n",
    "import pydrake.all\n",
    "from pydrake.geometry import Cylinder, Box\n",
    "from pydrake.all import (\n",
    "    RigidTransform, RotationMatrix, AngleAxis, RollPitchYaw, InverseKinematics, MultibodyPlant, Parser,\n",
    "    FindResourceOrThrow, Solve, PiecewisePolynomial, TrajectorySource, SceneGraph, DiagramBuilder,\n",
    "    AddMultibodyPlantSceneGraph, LinearBushingRollPitchYaw, MathematicalProgram, AutoDiffXd, GenerateHtml, Role,\n",
    "    LeafSystem, AbstractValue, PublishEvent, TriggerType, BasicVector, PiecewiseQuaternionSlerp,\n",
    "    RandomGenerator, UniformlyRandomRotationMatrix, ConnectMeshcatVisualizer\n",
    "    )\n",
    "import pydrake.perception as mut\n",
    "import open3d as o3d\n",
    "from ompl import base as ob\n",
    "from ompl import geometric as og\n",
    "import time\n",
    "from enum import Enum\n",
    "\n",
    "ycb = {\"cracker\": \"drake/manipulation/models/ycb/sdf/003_cracker_box.sdf\", \n",
    "    \"sugar\": \"drake/manipulation/models/ycb/sdf/004_sugar_box.sdf\", \n",
    "    \"soup\": \"drake/manipulation/models/ycb/sdf/005_tomato_soup_can.sdf\", \n",
    "    \"mustard\": \"drake/manipulation/models/ycb/sdf/006_mustard_bottle.sdf\", \n",
    "    \"gelatin\": \"drake/manipulation/models/ycb/sdf/009_gelatin_box.sdf\", \n",
    "    \"meat\": \"drake/manipulation/models/ycb/sdf/010_potted_meat_can.sdf\",\n",
    "    \"brick\": \"drake/examples/manipulation_station/models/061_foam_brick.sdf\"}\n",
    "\n",
    "for key in ycb.keys():\n",
    "    ycb[key] = FindResourceOrThrow(ycb[key])\n",
    "    \n",
    "ycb[\"puck\"] = FindResource(\"models/puck.urdf\")\n",
    "ycb[\"marble\"] = FindResource(\"models/marble.urdf\")\n",
    "\n",
    "def ycb_resource(name):\n",
    "    global ycb\n",
    "    return ycb[name]\n",
    "\n",
    "def random_ycb_resource():\n",
    "    global ycb\n",
    "    ycb_items = list(ycb.items())\n",
    "    index = np.random.randint(0, len(ycb_items))\n",
    "    return ycb_resource(ycb_items[index][0])"
   ]
  },
  {
   "cell_type": "code",
   "execution_count": 11,
   "metadata": {},
   "outputs": [
    {
     "name": "stdout",
     "output_type": "stream",
     "text": [
      "Connecting to meshcat-server at zmq_url=tcp://127.0.0.1:6016...\n",
      "You can open the visualizer by visiting the following URL:\n",
      "http://127.0.0.1:7016/static/\n",
      "Connected to meshcat-server.\n",
      "0\n"
     ]
    }
   ],
   "source": [
    "builder = DiagramBuilder()\n",
    "plant, scene_graph = AddMultibodyPlantSceneGraph(builder, 0.0)\n",
    "robot = Parser(plant, scene_graph).AddModelFromFile(\n",
    "        FindResource(\"models/welded_panda_hand.urdf\"))\n",
    "plant.WeldFrames(plant.world_frame(), plant.GetFrameByName(\"panda_hand\"))\n",
    "plant.Finalize()\n",
    "\n",
    "meshcat = ConnectMeshcatVisualizer(builder, scene_graph, zmq_url=zmq_url, role = Role.kProximity)\n",
    "diagram = builder.Build()\n",
    "context = diagram.CreateDefaultContext()\n",
    "\n",
    "\n",
    "meshcat.load()\n",
    "diagram.Publish(context)"
   ]
  }
 ],
 "metadata": {
  "kernelspec": {
   "display_name": "drake_env",
   "language": "python",
   "name": "drake_env"
  },
  "language_info": {
   "codemirror_mode": {
    "name": "ipython",
    "version": 3
   },
   "file_extension": ".py",
   "mimetype": "text/x-python",
   "name": "python",
   "nbconvert_exporter": "python",
   "pygments_lexer": "ipython3",
   "version": "3.6.9"
  }
 },
 "nbformat": 4,
 "nbformat_minor": 2
}
