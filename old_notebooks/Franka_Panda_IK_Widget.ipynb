{
 "cells": [
  {
   "cell_type": "markdown",
   "metadata": {},
   "source": [
    "See the google collaboratory for more details:\n",
    "https://colab.research.google.com/drive/1mCbcWxvmARx1KTDbYHGVTNOa66Z4uCoJ?usp=sharing"
   ]
  },
  {
   "cell_type": "code",
   "execution_count": 1,
   "metadata": {},
   "outputs": [],
   "source": [
    "# start meshcat server\n",
    "server_args = []\n",
    "from meshcat.servers.zmqserver import start_zmq_server_as_subprocess\n",
    "proc, zmq_url, web_url = start_zmq_server_as_subprocess(server_args=server_args)"
   ]
  },
  {
   "cell_type": "code",
   "execution_count": 2,
   "metadata": {},
   "outputs": [],
   "source": [
    "import numpy as np\n",
    "from functools import partial\n",
    "\n",
    "from ipywidgets import FloatSlider, Layout, Dropdown, Textarea\n",
    "from IPython.display import display, HTML, SVG\n",
    "\n",
    "from pydrake.common.jupyter import process_ipywidget_events\n",
    "from pydrake.systems.framework import BasicVector, VectorSystem\n",
    "\n",
    "from pydrake.solvers.mathematicalprogram import MathematicalProgram, Solve\n",
    "\n",
    "from pydrake.all import (\n",
    "    AddMultibodyPlantSceneGraph, ConnectMeshcatVisualizer, DiagramBuilder, \n",
    "    FindResourceOrThrow, GenerateHtml, InverseDynamicsController, \n",
    "    MultibodyPlant, Parser, Simulator, InverseKinematics, Role)\n",
    "\n",
    "from pydrake.math import RigidTransform, RotationMatrix, RollPitchYaw\n",
    "from pydrake.all import RigidTransform, RotationMatrix\n",
    "from pydrake.geometry import Cylinder\n",
    "from pydrake.multibody.tree import UnitInertia, SpatialInertia, JointIndex\n",
    "from pydrake.multibody.plant import CoulombFriction\n",
    "#from pydrake.multibody.inverse_kinematics import InverseKinematics\n",
    "from PandaInverseKinematics import PandaInverseKinematics\n",
    "from PandaStation import *"
   ]
  },
  {
   "cell_type": "code",
   "execution_count": 3,
   "metadata": {},
   "outputs": [],
   "source": [
    "def AddCylinder(plant, name, radius, length):\n",
    "\n",
    "  mass = 1\n",
    "  mu = 1\n",
    "  color = [0.486, 0.305, 0.756,1]\n",
    "\n",
    "  shape = Cylinder(radius, length)\n",
    "  instance = plant.AddModelInstance(name)\n",
    "  inertia = UnitInertia.SolidCylinder(shape.radius(), shape.length())\n",
    "\n",
    "  body = plant.AddRigidBody(name, instance, SpatialInertia(mass=mass,p_PScm_E=np.array([0., 0., 0.]), G_SP_E=inertia))\n",
    "    \n",
    "  plant.RegisterCollisionGeometry(body, RigidTransform(), shape, name, CoulombFriction(mu, mu))\n",
    "\n",
    "  plant.RegisterVisualGeometry(body, RigidTransform(), shape, name, color)\n",
    "\n",
    "  return instance\n",
    "\n",
    "def PoseWidget(publishing_system, root_context, callback):\n",
    "  ''' create the slider widget that will callback with the desired position to the IK solver'''\n",
    "\n",
    "  vars = ['x (m)','y (m)','z (m)','roll (rad)','pitch (rad)','yaw (rad)']\n",
    "  desired_pose = np.array([0.3,0.5,0.3,0,np.pi/2,np.pi/2]) # initial slider (and hand) pose\n",
    "\n",
    "  publishing_context = publishing_system.GetMyContextFromRoot(root_context) # Returns the mutable subsystem context for this system, given a root context.\n",
    "  \n",
    "  callback(root_context, desired_pose)\n",
    "  publishing_system.Publish(publishing_context)\n",
    "\n",
    "  def slider_callback(change, index):\n",
    "    desired_pose[index] = change.new\n",
    "    callback(root_context, desired_pose)\n",
    "    publishing_system.Publish(publishing_context)\n",
    "\n",
    "  slider_widgets = []\n",
    "\n",
    "  \n",
    "  max_vals = [0.6, 0.6, 0.7, np.pi, np.pi, np.pi]\n",
    "  min_vals = [-0.6, -0.6, 0, -np.pi, -np.pi, -np.pi]\n",
    "\n",
    "  for i in range(len(vars)):\n",
    "    slider = FloatSlider(max=max_vals[i],\n",
    "                             min=min_vals[i],\n",
    "                             value=desired_pose[i],\n",
    "                             step=0.01,\n",
    "                             continuous_update=True,\n",
    "                             description=vars[i],\n",
    "                             layout=Layout(width='90%'))\n",
    "    slider.observe(partial(slider_callback, index = i), names='value')\n",
    "    display(slider)\n",
    "    slider_widgets.append(slider)\n",
    "\n",
    "  return slider_widgets\n",
    "\n",
    "q_previous = None"
   ]
  },
  {
   "cell_type": "code",
   "execution_count": 4,
   "metadata": {},
   "outputs": [],
   "source": [
    "def AddCollisionConstraints(ik, min_distance, arm_geometries, collidable_geometries):\n",
    "  for i in range(len(arm_geometries)):\n",
    "    for j in range(len(collidable_geometries)):\n",
    "      pair = (arm_geometries[i], collidable_geometries[j])\n",
    "      ik.AddDistanceConstraint(pair, min_distance, 1000) # we dont care about the upper bound so set it to a large number\n",
    "\n",
    "\n",
    "def main():\n",
    "    \n",
    "  position_tolerance = 0.01\n",
    "\n",
    "  \n",
    "\n",
    "  builder = DiagramBuilder()\n",
    "  station = builder.AddSystem(PandaStation())\n",
    "  station.SetupDefaultStation()\n",
    "  station.Finalize()\n",
    "    \n",
    "  plant = station.get_multibody_plant()\n",
    "  panda = plant.GetModelInstanceByName(\"panda\")\n",
    "  station_context = station.CreateDefaultContext()\n",
    "  plant_context = plant.GetMyContextFromRoot(station_context)\n",
    "  scene_graph = station.get_scene_graph()\n",
    "  scene_graph_context = station.GetSubsystemContext(scene_graph, station_context)\n",
    "  start_pose = plant.EvalBodyPoseInWorld(plant_context, plant.GetBodyByName(\"panda_hand\"))\n",
    "\n",
    "\n",
    "  meshcat = pydrake.systems.meshcat_visualizer.ConnectMeshcatVisualizer(builder,\n",
    "          scene_graph,\n",
    "          output_port=station.GetOutputPort(\"query_object\"),\n",
    "          delete_prefix_on_load=True,                                      \n",
    "          zmq_url=zmq_url)#, role = Role.kProximity)# <- this commented part allows visualization of the collisions\n",
    "\n",
    "  diagram = builder.Build()\n",
    "  context = diagram.CreateDefaultContext()\n",
    "\n",
    "  for i in range(9):\n",
    "      frame = plant.GetFrameByName(f\"panda_link{i}\")\n",
    "      body = frame.body()\n",
    "      geoms = plant.GetCollisionGeometriesForBody(body)\n",
    "      print(f\"panda_link{i}:\")\n",
    "      for g in geoms:\n",
    "            print(\"\\t\" + str(g))\n",
    "  frames = ['panda_hand', 'panda_leftfinger', 'panda_rightfinger']\n",
    "  for f in frames:\n",
    "      print(f)\n",
    "      frame = plant.GetFrameByName(f)\n",
    "      body = frame.body()\n",
    "      geoms = plant.GetCollisionGeometriesForBody(body)\n",
    "      for g in geoms:\n",
    "            print(\"\\t\" + str(g))\n",
    "\n",
    "  q_nominal = plant.GetPositions(plant_context, panda)\n",
    "  q_previous = None\n",
    "  end_effector_frame = plant.GetFrameByName('panda_hand')\n",
    "  world_frame = plant.world_frame()\n",
    "  console = Textarea(value=\"\", description=\"\", layout={'width':'60%','height':'100px'}, style={'description_width':'initial'})\n",
    "\n",
    "  def IK_callback(context, desired_pose):\n",
    "    global q_previous\n",
    "    '''\n",
    "    ik =PandaInverseKinematics(plant, plant_context, panda_model)\n",
    "\n",
    "    # position constraint\n",
    "    p_tol = np.ones(3)*0.01\n",
    "    ik.AddPositionConstraint(desired_pose[0:3]-p_tol, desired_pose[0:3]+ p_tol)\n",
    "    #ik.AddPointToPointDistanceConstraint(end_effector_frame, np.array([0,0,0]), world_frame, desired_pose[0:3], 0, position_tolerance) # also can use AddPositionConstraint\n",
    "    \n",
    "    # add collision constraint\n",
    "    # ik.AddMinimumDistanceConstraint(0.01, 0.1) # this should work but doesn't for this franka-panda model (it works for the IIWA)\n",
    "    #AddCollisionConstraints(ik, 0.01,arm_geometries, to_avoid_geometries)\n",
    "\n",
    "    # add orientation constraint\n",
    "    rot = RigidTransform(RollPitchYaw(desired_pose[3:]), desired_pose[0:3]).rotation()\n",
    "    #ik.AddOrientationConstraint(end_effector_frame, RotationMatrix(), world_frame, rot, 0)\n",
    "    ik.AddOrientationConstraint(rot, 0.01)\n",
    "    \n",
    "\n",
    "    # set inital guess and solve\n",
    "    prog = ik.get_prog()\n",
    "    q = ik.get_q()\n",
    "    '''\n",
    "    p_tol = np.ones(3)*0.01\n",
    "    trans = desired_pose[0:3]\n",
    "    \n",
    "    ik = InverseKinematics(plant, plant_context)\n",
    "    ik.AddPositionConstraint(\n",
    "            end_effector_frame,\n",
    "            np.zeros(3),\n",
    "            world_frame,\n",
    "            trans - p_tol,\n",
    "            trans + p_tol)\n",
    "    rot = RigidTransform(RollPitchYaw(desired_pose[3:]), desired_pose[0:3]).rotation()\n",
    "    ik.AddOrientationConstraint(\n",
    "            end_effector_frame,\n",
    "            RotationMatrix(),\n",
    "            world_frame,\n",
    "            rot,\n",
    "            0)\n",
    "    ik.AddMinimumDistanceConstraint(0.01, 0.1)\n",
    "    q = ik.q()\n",
    "    prog = ik.prog()\n",
    "    q_nom = np.concatenate((q_nominal, np.zeros(2)))\n",
    "    #prog.AddQuadraticErrorCost(np.identity(len(q)), q_nom, q)\n",
    "    #prog.SetInitialGuess(q, q_nom)\n",
    "        \n",
    "    # prog.AddQuadraticErrorCost(np.identity(len(q)), q_nominal, q) # optional\n",
    "    if (q_previous is None):\n",
    "      prog.SetInitialGuess(q, q_nom)\n",
    "    else:\n",
    "      prog.SetInitialGuess(q, q_previous)\n",
    "\n",
    "    result = Solve(prog)\n",
    "    q_previous = result.GetSolution()\n",
    "    console.value += str(result.is_success()) + \"\\n\"\n",
    "    plant.SetPositions(plant_context, panda, q_previous[:-2])\n",
    "    query_port = plant.get_geometry_query_input_port()\n",
    "    query_object = query_port.Eval(plant_context)\n",
    "    dists = query_object.ComputeSignedDistancePairwiseClosestPoints(100)\n",
    "    num = 0\n",
    "    for d in dists:\n",
    "        if d.distance < 0.01:\n",
    "            num+=1\n",
    "            print(d.id_A, d.id_B, d.distance)\n",
    "    print(num)\n",
    "    \n",
    "    \n",
    "  meshcat.load()\n",
    "  PoseWidget(meshcat, context, IK_callback)\n",
    "  display(console)"
   ]
  },
  {
   "cell_type": "code",
   "execution_count": 6,
   "metadata": {
    "scrolled": false
   },
   "outputs": [
    {
     "name": "stdout",
     "output_type": "stream",
     "text": [
      "Connecting to meshcat-server at zmq_url=tcp://127.0.0.1:6031...\n",
      "You can open the visualizer by visiting the following URL:\n",
      "http://127.0.0.1:7031/static/\n",
      "Connected to meshcat-server.\n",
      "panda_link0:\n",
      "\t<GeometryId value=154>\n",
      "\t<GeometryId value=156>\n",
      "\t<GeometryId value=158>\n",
      "\t<GeometryId value=160>\n",
      "\t<GeometryId value=162>\n",
      "\t<GeometryId value=164>\n",
      "\t<GeometryId value=166>\n",
      "\t<GeometryId value=168>\n",
      "\t<GeometryId value=170>\n",
      "\t<GeometryId value=172>\n",
      "\t<GeometryId value=174>\n",
      "\t<GeometryId value=176>\n",
      "\t<GeometryId value=178>\n",
      "\t<GeometryId value=180>\n",
      "panda_link1:\n",
      "\t<GeometryId value=184>\n",
      "\t<GeometryId value=186>\n",
      "\t<GeometryId value=188>\n",
      "\t<GeometryId value=190>\n",
      "\t<GeometryId value=192>\n",
      "\t<GeometryId value=194>\n",
      "panda_link2:\n",
      "\t<GeometryId value=198>\n",
      "\t<GeometryId value=200>\n",
      "\t<GeometryId value=202>\n",
      "\t<GeometryId value=204>\n",
      "\t<GeometryId value=206>\n",
      "\t<GeometryId value=208>\n",
      "panda_link3:\n",
      "\t<GeometryId value=212>\n",
      "\t<GeometryId value=214>\n",
      "\t<GeometryId value=216>\n",
      "\t<GeometryId value=218>\n",
      "\t<GeometryId value=220>\n",
      "panda_link4:\n",
      "\t<GeometryId value=224>\n",
      "\t<GeometryId value=226>\n",
      "\t<GeometryId value=228>\n",
      "\t<GeometryId value=230>\n",
      "\t<GeometryId value=232>\n",
      "\t<GeometryId value=234>\n",
      "\t<GeometryId value=236>\n",
      "panda_link5:\n",
      "\t<GeometryId value=240>\n",
      "\t<GeometryId value=242>\n",
      "\t<GeometryId value=244>\n",
      "\t<GeometryId value=246>\n",
      "\t<GeometryId value=248>\n",
      "\t<GeometryId value=250>\n",
      "\t<GeometryId value=252>\n",
      "\t<GeometryId value=254>\n",
      "\t<GeometryId value=256>\n",
      "\t<GeometryId value=258>\n",
      "\t<GeometryId value=260>\n",
      "\t<GeometryId value=262>\n",
      "panda_link6:\n",
      "\t<GeometryId value=266>\n",
      "\t<GeometryId value=268>\n",
      "\t<GeometryId value=270>\n",
      "\t<GeometryId value=272>\n",
      "\t<GeometryId value=274>\n",
      "panda_link7:\n",
      "\t<GeometryId value=278>\n",
      "\t<GeometryId value=280>\n",
      "panda_link8:\n",
      "\t<GeometryId value=282>\n",
      "panda_hand\n",
      "\t<GeometryId value=286>\n",
      "\t<GeometryId value=288>\n",
      "panda_leftfinger\n",
      "\t<GeometryId value=292>\n",
      "\t<GeometryId value=294>\n",
      "panda_rightfinger\n",
      "\t<GeometryId value=298>\n",
      "\t<GeometryId value=300>\n",
      "0\n"
     ]
    },
    {
     "data": {
      "application/vnd.jupyter.widget-view+json": {
       "model_id": "6e3134a2520e433c8d578b454f9abb42"
      }
     },
     "metadata": {},
     "output_type": "display_data"
    },
    {
     "data": {
      "application/vnd.jupyter.widget-view+json": {
       "model_id": "2d1aae18cda3469a973303a991529262"
      }
     },
     "metadata": {},
     "output_type": "display_data"
    },
    {
     "data": {
      "application/vnd.jupyter.widget-view+json": {
       "model_id": "0d633b8beb424924b3604a3bc7f69191"
      }
     },
     "metadata": {},
     "output_type": "display_data"
    },
    {
     "data": {
      "application/vnd.jupyter.widget-view+json": {
       "model_id": "a2b0aae4e13f4c6d97c9bbe8a275c6c2"
      }
     },
     "metadata": {},
     "output_type": "display_data"
    },
    {
     "data": {
      "application/vnd.jupyter.widget-view+json": {
       "model_id": "a2a280cba8a243a18509d1d6a94bfd3d"
      }
     },
     "metadata": {},
     "output_type": "display_data"
    },
    {
     "data": {
      "application/vnd.jupyter.widget-view+json": {
       "model_id": "b9af2a6b8f264e1985933cbd9aab6678"
      }
     },
     "metadata": {},
     "output_type": "display_data"
    },
    {
     "data": {
      "application/vnd.jupyter.widget-view+json": {
       "model_id": "d45ce0530a9c409696ab4e50174d479c"
      }
     },
     "metadata": {},
     "output_type": "display_data"
    },
    {
     "name": "stdout",
     "output_type": "stream",
     "text": [
      "0\n",
      "0\n",
      "0\n",
      "0\n",
      "0\n",
      "0\n",
      "0\n"
     ]
    }
   ],
   "source": [
    "main()"
   ]
  }
 ],
 "metadata": {
  "kernelspec": {
   "display_name": "drake_env",
   "language": "python",
   "name": "drake_env"
  },
  "language_info": {
   "codemirror_mode": {
    "name": "ipython",
    "version": 3
   },
   "file_extension": ".py",
   "mimetype": "text/x-python",
   "name": "python",
   "nbconvert_exporter": "python",
   "pygments_lexer": "ipython3",
   "version": "3.6.9"
  }
 },
 "nbformat": 4,
 "nbformat_minor": 2
}
